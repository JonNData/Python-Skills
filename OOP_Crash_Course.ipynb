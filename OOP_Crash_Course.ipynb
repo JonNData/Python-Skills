{
  "nbformat": 4,
  "nbformat_minor": 0,
  "metadata": {
    "colab": {
      "name": "OOP Crash Course.ipynb",
      "provenance": [],
      "collapsed_sections": [],
      "include_colab_link": true
    },
    "kernelspec": {
      "name": "python3",
      "display_name": "Python 3"
    }
  },
  "cells": [
    {
      "cell_type": "markdown",
      "metadata": {
        "id": "view-in-github",
        "colab_type": "text"
      },
      "source": [
        "<a href=\"https://colab.research.google.com/github/JonNData/Python-Skills/blob/master/OOP_Crash_Course.ipynb\" target=\"_parent\"><img src=\"https://colab.research.google.com/assets/colab-badge.svg\" alt=\"Open In Colab\"/></a>"
      ]
    },
    {
      "cell_type": "markdown",
      "metadata": {
        "id": "EdMkSHwNeVjQ",
        "colab_type": "text"
      },
      "source": [
        "# Part 1"
      ]
    },
    {
      "cell_type": "markdown",
      "metadata": {
        "id": "fbbQp-_13bth",
        "colab_type": "text"
      },
      "source": [
        "[Corey Schafer Tutorial Videos on OOP](https://www.youtube.com/watch?v=ZDa-Z5JzLYM&list=PL-osiE80TeTsqhIuOqKhwlXsIBIdSeYtc)"
      ]
    },
    {
      "cell_type": "markdown",
      "metadata": {
        "id": "03QyIk3qPug9",
        "colab_type": "text"
      },
      "source": [
        "Creating a class uses the class keyword followed by the class name in CamelCase. This is an empty class."
      ]
    },
    {
      "cell_type": "code",
      "metadata": {
        "id": "G13OjOCtOXSv",
        "colab_type": "code",
        "colab": {}
      },
      "source": [
        "class Car:\n",
        "  pass"
      ],
      "execution_count": 0,
      "outputs": []
    },
    {
      "cell_type": "markdown",
      "metadata": {
        "id": "wB5ny8yRPy69",
        "colab_type": "text"
      },
      "source": [
        "Here we have a very basic class with `__init__` and one other function.\n",
        "- `__init__` is a special type of function called a [dunder method](https://www.geeksforgeeks.org/dunder-magic-methods-python/). These dunder methods overwrite how common Python functions interact with your class. The `__init__` function tells Python how to setup an instance of your class object when it is created, usually defining initial attributes based off the parameters.\n",
        "- While `__init__` is an extremely common function in class, it is not required.\n",
        "- [Almost all functions](https://realpython.com/instance-class-and-static-methods-demystified/) in a class require `self` to be the first argument, even if you have no other parameters. `self` represents an instance of the class and in short, it allows us to be at the right [scope](https://en.wikipedia.org/wiki/Scope_(computer_science)) level.\n",
        "- Functions in a class may be used to do anything a function would normally do, but they may also use and alter instance and class attributes.\n",
        "- To reference instance level attributes we need to preceed them with `self`\n"
      ]
    },
    {
      "cell_type": "code",
      "metadata": {
        "id": "btBqqPDPJ-_q",
        "colab_type": "code",
        "colab": {}
      },
      "source": [
        "class Car:\n",
        "\n",
        "  def __init__(self, doors, eng_size, is_electric=False):\n",
        "    self.doors = doors\n",
        "    self.eng_size = eng_size\n",
        "    self.is_electric = is_electric\n",
        "\n",
        "  def turn_on_vehicle(self):\n",
        "    if self.is_electric:\n",
        "      print('Ding!')\n",
        "    else:\n",
        "      print('Vroom vroom!')"
      ],
      "execution_count": 0,
      "outputs": []
    },
    {
      "cell_type": "markdown",
      "metadata": {
        "id": "LSHuZJK9bd8r",
        "colab_type": "text"
      },
      "source": [
        "Creating an instance of a class object is called instantiation. Instantiation should feel familiar, it's what we do when we create objects like dataframes or models."
      ]
    },
    {
      "cell_type": "code",
      "metadata": {
        "id": "-dJtAfhcMJAu",
        "colab_type": "code",
        "colab": {}
      },
      "source": [
        "# The parameters you need to pass to create an object is based off __init__\n",
        "a_car = Car(4,'four cylinder', False)"
      ],
      "execution_count": 0,
      "outputs": []
    },
    {
      "cell_type": "code",
      "metadata": {
        "id": "x8lFc2v_cKis",
        "colab_type": "code",
        "outputId": "29d2b09d-6bfb-4f6b-9298-140ec52d2379",
        "colab": {
          "base_uri": "https://localhost:8080/",
          "height": 72
        }
      },
      "source": [
        "# We can access the attributes of our object\n",
        "print('Doors:', a_car.doors)\n",
        "print('Engine Size:', a_car.eng_size)\n",
        "print('Is Electric?:', a_car.is_electric)"
      ],
      "execution_count": 0,
      "outputs": [
        {
          "output_type": "stream",
          "text": [
            "Doors: 4\n",
            "Engine Size: four cylinder\n",
            "Is Electric?: False\n"
          ],
          "name": "stdout"
        }
      ]
    },
    {
      "cell_type": "code",
      "metadata": {
        "id": "52r6zWwdg0pB",
        "colab_type": "code",
        "outputId": "f8f0aa64-7511-4377-aec0-88cc13759545",
        "colab": {
          "base_uri": "https://localhost:8080/",
          "height": 53
        }
      },
      "source": [
        "# And we can update the value of those attributes\n",
        "print('Doors:', a_car.doors)\n",
        "a_car.doors = 3\n",
        "print('Doors:', a_car.doors)"
      ],
      "execution_count": 0,
      "outputs": [
        {
          "output_type": "stream",
          "text": [
            "Doors: 4\n",
            "Doors: 3\n"
          ],
          "name": "stdout"
        }
      ]
    },
    {
      "cell_type": "code",
      "metadata": {
        "id": "4tN4b-r9Mc1H",
        "colab_type": "code",
        "outputId": "a7b1a88e-8997-44b8-bdd7-abfc7f04ea1f",
        "colab": {
          "base_uri": "https://localhost:8080/",
          "height": 35
        }
      },
      "source": [
        "# We call object functions in a very similar way to the attributes\n",
        "a_car.turn_on_vehicle()"
      ],
      "execution_count": 0,
      "outputs": [
        {
          "output_type": "stream",
          "text": [
            "Vroom vroom!\n"
          ],
          "name": "stdout"
        }
      ]
    },
    {
      "cell_type": "code",
      "metadata": {
        "id": "we54IVZ-TGMG",
        "colab_type": "code",
        "colab": {}
      },
      "source": [
        "# You can even call dunder methods directly but this isn't best practice.\n",
        "a_car.__init__(4,'four cylinder', False)"
      ],
      "execution_count": 0,
      "outputs": []
    },
    {
      "cell_type": "code",
      "metadata": {
        "id": "YACaAFsY6crv",
        "colab_type": "code",
        "outputId": "7b66737b-6b4e-460c-f4c6-3d2b6efd150c",
        "colab": {
          "base_uri": "https://localhost:8080/",
          "height": 35
        }
      },
      "source": [
        "print(a_car)"
      ],
      "execution_count": 0,
      "outputs": [
        {
          "output_type": "stream",
          "text": [
            "<__main__.Car object at 0x7fa257f989e8>\n"
          ],
          "name": "stdout"
        }
      ]
    },
    {
      "cell_type": "code",
      "metadata": {
        "id": "0yb-XfDY6c06",
        "colab_type": "code",
        "outputId": "f3f6e901-42c9-4342-b0cc-9a2eab780c7a",
        "colab": {
          "base_uri": "https://localhost:8080/",
          "height": 35
        }
      },
      "source": [
        "a_car"
      ],
      "execution_count": 0,
      "outputs": [
        {
          "output_type": "execute_result",
          "data": {
            "text/plain": [
              "<__main__.Car at 0x7fa257f989e8>"
            ]
          },
          "metadata": {
            "tags": []
          },
          "execution_count": 63
        }
      ]
    },
    {
      "cell_type": "markdown",
      "metadata": {
        "id": "QH5dJUJte9_J",
        "colab_type": "text"
      },
      "source": [
        "# Part 2"
      ]
    },
    {
      "cell_type": "code",
      "metadata": {
        "id": "hgb6iJKEdNNR",
        "colab_type": "code",
        "colab": {}
      },
      "source": [
        "class Car:\n",
        "\n",
        "  def __init__(self, doors, eng_size, is_electric=False):\n",
        "    self.doors = doors\n",
        "    self.eng_size = eng_size\n",
        "    self.is_electric = is_electric\n",
        "    self.is_turned_on = False\n",
        "\n",
        "  # New dunder methods\n",
        "  def __str__(self):\n",
        "    return f'This is a car with {self.doors} doors.'\n",
        "  \n",
        "  def __repr__(self):\n",
        "    return str({'doors': self.doors,\n",
        "                'eng_size': self.eng_size,\n",
        "                'is_electric': self.is_electric})\n",
        "  \n",
        "  # Updated function to update an instance attribute as \n",
        "  # well as print a startup sound\n",
        "  def turn_on_vehicle(self):\n",
        "    if self.is_turned_on:\n",
        "      print('Car is already on')\n",
        "    elif self.is_electric:\n",
        "      print('Ding!')\n",
        "    else:\n",
        "      print('Vroom vroom!')\n",
        "    self.is_turned_on = True"
      ],
      "execution_count": 0,
      "outputs": []
    },
    {
      "cell_type": "code",
      "metadata": {
        "id": "NT5JSl4UfndR",
        "colab_type": "code",
        "colab": {}
      },
      "source": [
        "# Instatiate a new car object\n",
        "a_car = Car(1, 'four cylinder', False)"
      ],
      "execution_count": 0,
      "outputs": []
    },
    {
      "cell_type": "markdown",
      "metadata": {
        "id": "v8D5n7L-pxTo",
        "colab_type": "text"
      },
      "source": [
        "Dunder methods overwrite Python functionality for reserved words. They can be helpful to allow your classes to interact with Python in the same manner as native objects/datatypes. With `__str__` we are telling Python how to behave if it is typecasted as a string."
      ]
    },
    {
      "cell_type": "code",
      "metadata": {
        "id": "bSUrCL8XfrmI",
        "colab_type": "code",
        "outputId": "9473cb3e-f65e-47bf-f2f8-9edfdd22c967",
        "colab": {
          "base_uri": "https://localhost:8080/",
          "height": 53
        }
      },
      "source": [
        "print(a_car)\n",
        "str(a_car)"
      ],
      "execution_count": 0,
      "outputs": [
        {
          "output_type": "stream",
          "text": [
            "This is a car with 1 doors.\n"
          ],
          "name": "stdout"
        },
        {
          "output_type": "execute_result",
          "data": {
            "text/plain": [
              "'This is a car with 1 doors.'"
            ]
          },
          "metadata": {
            "tags": []
          },
          "execution_count": 68
        }
      ]
    },
    {
      "cell_type": "markdown",
      "metadata": {
        "id": "81QLgOLxsoev",
        "colab_type": "text"
      },
      "source": [
        "`__repr__` is the more formal string representation of your string, used when you use `repr` or simply type out the object name by itself.\n",
        "\n",
        "[Explanation of repr vs str](https://www.geeksforgeeks.org/str-vs-repr-in-python/)"
      ]
    },
    {
      "cell_type": "code",
      "metadata": {
        "id": "7TK3zTuahpk7",
        "colab_type": "code",
        "outputId": "8912be85-0158-41fa-840a-d2c0556f2b56",
        "colab": {
          "base_uri": "https://localhost:8080/",
          "height": 35
        }
      },
      "source": [
        "a_car"
      ],
      "execution_count": 0,
      "outputs": [
        {
          "output_type": "execute_result",
          "data": {
            "text/plain": [
              "{'doors': 1, 'eng_size': 'four cylinder', 'is_electric': False}"
            ]
          },
          "metadata": {
            "tags": []
          },
          "execution_count": 69
        }
      ]
    },
    {
      "cell_type": "code",
      "metadata": {
        "id": "NjLZTATwiEtZ",
        "colab_type": "code",
        "outputId": "0cf794be-f19f-46d5-954c-6956c6dda670",
        "colab": {
          "base_uri": "https://localhost:8080/",
          "height": 72
        }
      },
      "source": [
        "# Our updated function now changes its output and variables in our car instance \n",
        "a_car.turn_on_vehicle()\n",
        "a_car.turn_on_vehicle()\n",
        "a_car.is_turned_on"
      ],
      "execution_count": 0,
      "outputs": [
        {
          "output_type": "stream",
          "text": [
            "Vroom vroom!\n",
            "Car is already on\n"
          ],
          "name": "stdout"
        },
        {
          "output_type": "execute_result",
          "data": {
            "text/plain": [
              "True"
            ]
          },
          "metadata": {
            "tags": []
          },
          "execution_count": 70
        }
      ]
    },
    {
      "cell_type": "markdown",
      "metadata": {
        "id": "NwcndF97vXco",
        "colab_type": "text"
      },
      "source": [
        "# Part 3"
      ]
    },
    {
      "cell_type": "code",
      "metadata": {
        "colab_type": "code",
        "id": "-qPHa8Fmvb9L",
        "colab": {}
      },
      "source": [
        "class Car:\n",
        "\n",
        "  def __init__(self, doors, eng_size, is_electric=False):\n",
        "    self.doors = doors\n",
        "    self.eng_size = eng_size\n",
        "    self.is_electric = is_electric\n",
        "    self.is_turned_on = False\n",
        "\n",
        "  def __str__(self):\n",
        "    return f'This is a car with {self.doors} doors.'\n",
        "  \n",
        "  def __repr__(self):\n",
        "    return str({'doors': self.doors,\n",
        "                'eng_size': self.eng_size,\n",
        "                'is_electric': self.is_electric})\n",
        "\n",
        "  def turn_on_vehicle(self):\n",
        "    if self.is_turned_on:\n",
        "      print('Car is already on')\n",
        "    elif self.is_electric:\n",
        "      print('Ding!')\n",
        "    else:\n",
        "      print('Vroom vroom!')\n",
        "    self.is_turned_on = True"
      ],
      "execution_count": 0,
      "outputs": []
    },
    {
      "cell_type": "code",
      "metadata": {
        "id": "DRkKitMFvmWS",
        "colab_type": "code",
        "colab": {}
      },
      "source": [
        "class Tesla(Car): # The class in parentheses is the parent class we are inheriting from\n",
        "\n",
        "  def __init__(self, doors, model, driverless_enabled=False):\n",
        "    # Super calls the init of the parent class\n",
        "    super().__init__(doors, 'None', True)\n",
        "    # New variables specific to the Tesla (child) class\n",
        "    self.model = model\n",
        "    self.driverless_enabled = driverless_enabled\n",
        "\n",
        "  # We can overwrite the behavior of functions in the Parent class\n",
        "  def turn_on_vehicle(self):\n",
        "    if self.is_turned_on:\n",
        "      print('Tesla is already on')\n",
        "    else:\n",
        "      print('Ding!')\n",
        "    self.is_turned_on = True\n",
        "  \n",
        "  # We can also add totally new functions just for the child class\n",
        "  def enable_driverless(self, paid=False):\n",
        "    if paid:\n",
        "      self.driverless_enabled = True\n",
        "    else:\n",
        "      return 'Enabling this feature must be done by an authorized Tesla Dealer'"
      ],
      "execution_count": 0,
      "outputs": []
    },
    {
      "cell_type": "markdown",
      "metadata": {
        "id": "6gEO54I2ynoS",
        "colab_type": "text"
      },
      "source": [
        "Tesla inherits from Car\n",
        "- Inheritance allows us to define a class that inherits all the methods and properties from another class\n",
        "- Parent class is the class being inherited from (`Car`)\n",
        "- Child class is the class that inherits from another class (`Tesla`)\n",
        "- Inheritance generally makes intuitive sense on whether you should do it or not. If you can say that one class is a subset/more specialized version of another class then you should use inheritance.\n",
        "- `super()` allows us to access properties and methods of the parent class. The most common reason to use `super()` is to call the parent `__init__` so we don't have to retype the contents of that method."
      ]
    },
    {
      "cell_type": "code",
      "metadata": {
        "id": "4poHxbPMw4G2",
        "colab_type": "code",
        "colab": {}
      },
      "source": [
        "# Instantiate a new Tesla object\n",
        "tesla_s = Tesla(4, 'S', False)"
      ],
      "execution_count": 0,
      "outputs": []
    },
    {
      "cell_type": "code",
      "metadata": {
        "id": "Yr2iRHA40hgf",
        "colab_type": "code",
        "outputId": "86b94233-c4bd-4bd4-b4f0-3dfc714fb300",
        "colab": {
          "base_uri": "https://localhost:8080/",
          "height": 72
        }
      },
      "source": [
        "# We can access the attributes we inherited from our parent class\n",
        "print('Doors:', tesla_s.doors)\n",
        "print('Engine Size:', tesla_s.eng_size)\n",
        "print('Is Electric?:', tesla_s.is_electric)"
      ],
      "execution_count": 0,
      "outputs": [
        {
          "output_type": "stream",
          "text": [
            "Doors: 4\n",
            "Engine Size: None\n",
            "Is Electric?: True\n"
          ],
          "name": "stdout"
        }
      ]
    },
    {
      "cell_type": "code",
      "metadata": {
        "id": "7Jjm5N810hlM",
        "colab_type": "code",
        "outputId": "7ff1491c-69cb-4b68-c828-7188d407cd98",
        "colab": {
          "base_uri": "https://localhost:8080/",
          "height": 53
        }
      },
      "source": [
        "# We can also access the attributes that are unique to the child\n",
        "print('Model:', tesla_s.model)\n",
        "print('Driverless?:', tesla_s.driverless_enabled)"
      ],
      "execution_count": 0,
      "outputs": [
        {
          "output_type": "stream",
          "text": [
            "Model: S\n",
            "Driverless?: False\n"
          ],
          "name": "stdout"
        }
      ]
    },
    {
      "cell_type": "code",
      "metadata": {
        "id": "GHNh3ayuxD_V",
        "colab_type": "code",
        "outputId": "92ede1f9-8d5f-4a52-c69c-8fad1eebe058",
        "colab": {
          "base_uri": "https://localhost:8080/",
          "height": 53
        }
      },
      "source": [
        "# We see the function we overwrote now has new behavior\n",
        "tesla_s.turn_on_vehicle()\n",
        "tesla_s.turn_on_vehicle()"
      ],
      "execution_count": 0,
      "outputs": [
        {
          "output_type": "stream",
          "text": [
            "Ding!\n",
            "Tesla is already on\n"
          ],
          "name": "stdout"
        }
      ]
    },
    {
      "cell_type": "code",
      "metadata": {
        "id": "ZBjwRakw1mJT",
        "colab_type": "code",
        "outputId": "b585e479-0e4f-456c-b3a8-1bd7bd1325ba",
        "colab": {
          "base_uri": "https://localhost:8080/",
          "height": 35
        }
      },
      "source": [
        "# And functions from the parent class that we did not overwrite (str and repr) are still there\n",
        "tesla_s"
      ],
      "execution_count": 0,
      "outputs": [
        {
          "output_type": "execute_result",
          "data": {
            "text/plain": [
              "{'doors': 4, 'eng_size': 'None', 'is_electric': True}"
            ]
          },
          "metadata": {
            "tags": []
          },
          "execution_count": 54
        }
      ]
    },
    {
      "cell_type": "code",
      "metadata": {
        "id": "BMv4qvyWxiC_",
        "colab_type": "code",
        "outputId": "3e162b21-4fcb-43ac-fbf8-19b395b12dde",
        "colab": {
          "base_uri": "https://localhost:8080/",
          "height": 35
        }
      },
      "source": [
        "# Finally, functions that are brand new work as well\n",
        "tesla_s.enable_driverless()"
      ],
      "execution_count": 0,
      "outputs": [
        {
          "output_type": "execute_result",
          "data": {
            "text/plain": [
              "'Enabling this feature must be done by an authorized Tesla Dealer'"
            ]
          },
          "metadata": {
            "tags": []
          },
          "execution_count": 46
        }
      ]
    },
    {
      "cell_type": "code",
      "metadata": {
        "id": "nzvgndvmyMCp",
        "colab_type": "code",
        "outputId": "9ec96fad-d8ee-4c1b-85ad-6d4ca19bc305",
        "colab": {
          "base_uri": "https://localhost:8080/",
          "height": 53
        }
      },
      "source": [
        "print('Driverless?:', tesla_s.driverless_enabled)\n",
        "tesla_s.enable_driverless(True)\n",
        "print('Driverless?:', tesla_s.driverless_enabled)"
      ],
      "execution_count": 0,
      "outputs": [
        {
          "output_type": "stream",
          "text": [
            "Driverless?: False\n",
            "Driverless?: True\n"
          ],
          "name": "stdout"
        }
      ]
    },
    {
      "cell_type": "markdown",
      "metadata": {
        "id": "5HggNfeHFozb",
        "colab_type": "text"
      },
      "source": [
        "# PRACTICE Video 1"
      ]
    },
    {
      "cell_type": "code",
      "metadata": {
        "id": "LYi9kYKHFr_q",
        "colab_type": "code",
        "outputId": "1e1a7fcb-63a1-4836-dce0-e1644664ab12",
        "colab": {
          "base_uri": "https://localhost:8080/",
          "height": 34
        }
      },
      "source": [
        "class Employee:\n",
        "  # instantiate with first argument self\n",
        "  def __init__(self, first ,last, pay):\n",
        "    self.first = first\n",
        "    self.last = last\n",
        "    self.pay = pay\n",
        "  # create another method\n",
        "  def fullname(self):\n",
        "    return '{} {}'.format(self.first, self.last)\n",
        "\n",
        "emp_1 = Employee('Jon','Nguyen', 120_000)\n",
        "emp_2 = Employee('jake', 'letterman', 100_000)\n",
        "\n",
        "# emp_1.first = 'Jon'\n",
        "# emp_1.last = \"Nguyen\"\n",
        "# emp_1.pay = 120_000\n",
        "\n",
        "# emp_2.first = 'jake'\n",
        "# emp_2.last = \"lee\"\n",
        "# emp_2.pay = 100_000\n",
        "# Manual assignments not necessary now that we've init\n",
        "Employee.fullname(emp_1)"
      ],
      "execution_count": 0,
      "outputs": [
        {
          "output_type": "execute_result",
          "data": {
            "text/plain": [
              "'Jon Nguyen'"
            ]
          },
          "metadata": {
            "tags": []
          },
          "execution_count": 10
        }
      ]
    },
    {
      "cell_type": "code",
      "metadata": {
        "id": "6IE2ND5VGEMT",
        "colab_type": "code",
        "colab": {}
      },
      "source": [
        ""
      ],
      "execution_count": 0,
      "outputs": []
    },
    {
      "cell_type": "markdown",
      "metadata": {
        "id": "N6Vd3ZYtJgtW",
        "colab_type": "text"
      },
      "source": [
        "# Practice video 2"
      ]
    },
    {
      "cell_type": "code",
      "metadata": {
        "id": "1C0JREo-JkFk",
        "colab_type": "code",
        "outputId": "72ba5440-559d-4a5c-a8bb-c298ae3018dc",
        "colab": {
          "base_uri": "https://localhost:8080/",
          "height": 51
        }
      },
      "source": [
        "# Class variables are shared under all instances of a class. \n",
        "# instance variables are unique to each instance\n",
        "\n",
        "class Employee:\n",
        "  # instantiate with first argument self\n",
        "  num_of_emps = 0\n",
        "  raise_amount =  1.04\n",
        "  def __init__(self, first ,last, pay):\n",
        "    self.first = first\n",
        "    self.last = last\n",
        "    self.pay = pay\n",
        "\n",
        "    Employee.num_of_emps += 1\n",
        "  # create another method\n",
        "  def fullname(self):\n",
        "    return '{} {}'.format(self.first, self.last)\n",
        "\n",
        "  def apply_raise(self):\n",
        "    self.pay = int(self.pay * self.raise_amount)\n",
        "    # using self with the raise_amount let's each object have their own raise amount\n",
        "\n",
        "emp_1 = Employee('Jon','Nguyen', 120_000)\n",
        "emp_2 = Employee('jake', 'letterman', 100_000)\n",
        "\n",
        "print(emp_1.pay)\n",
        "emp_1.apply_raise()\n",
        "emp_1.pay\n",
        "\n"
      ],
      "execution_count": 19,
      "outputs": [
        {
          "output_type": "stream",
          "text": [
            "120000\n"
          ],
          "name": "stdout"
        },
        {
          "output_type": "execute_result",
          "data": {
            "text/plain": [
              "124800"
            ]
          },
          "metadata": {
            "tags": []
          },
          "execution_count": 19
        }
      ]
    },
    {
      "cell_type": "code",
      "metadata": {
        "id": "UqDSz-LkKCCq",
        "colab_type": "code",
        "colab": {
          "base_uri": "https://localhost:8080/",
          "height": 54
        },
        "outputId": "77e06ebe-22d9-46b4-952b-0de1fe1654ce"
      },
      "source": [
        "print(Employee.__dict__)"
      ],
      "execution_count": 18,
      "outputs": [
        {
          "output_type": "stream",
          "text": [
            "{'__module__': '__main__', 'raise_amount': 1.04, '__init__': <function Employee.__init__ at 0x7f66d8059950>, 'fullname': <function Employee.fullname at 0x7f66d80599d8>, 'apply_raise': <function Employee.apply_raise at 0x7f66d8059510>, '__dict__': <attribute '__dict__' of 'Employee' objects>, '__weakref__': <attribute '__weakref__' of 'Employee' objects>, '__doc__': None}\n"
          ],
          "name": "stdout"
        }
      ]
    },
    {
      "cell_type": "code",
      "metadata": {
        "id": "WRC00yW241IG",
        "colab_type": "code",
        "colab": {
          "base_uri": "https://localhost:8080/",
          "height": 34
        },
        "outputId": "1a6de509-ae43-4661-8954-927501d2f9b1"
      },
      "source": [
        "Employee.num_of_emps\n",
        "# tracks as they were made in instances."
      ],
      "execution_count": 20,
      "outputs": [
        {
          "output_type": "execute_result",
          "data": {
            "text/plain": [
              "2"
            ]
          },
          "metadata": {
            "tags": []
          },
          "execution_count": 20
        }
      ]
    },
    {
      "cell_type": "code",
      "metadata": {
        "id": "DT0xV2Tn5x-6",
        "colab_type": "code",
        "colab": {}
      },
      "source": [
        ""
      ],
      "execution_count": 0,
      "outputs": []
    },
    {
      "cell_type": "markdown",
      "metadata": {
        "id": "yPOG_eil5-hz",
        "colab_type": "text"
      },
      "source": [
        "# Practice video 3"
      ]
    },
    {
      "cell_type": "code",
      "metadata": {
        "id": "Do5EU2TR6ASY",
        "colab_type": "code",
        "colab": {
          "base_uri": "https://localhost:8080/",
          "height": 68
        },
        "outputId": "8bcd02cf-6eda-4574-bd7c-eb91078e417a"
      },
      "source": [
        "# Regular methods, class and static methods\n",
        "# regular methods takes the instance as the first argument (self)\n",
        "# Class method takes class as first argument, add @classmethod decorator\n",
        "\n",
        "class Employee:\n",
        "  # instantiate with first argument self\n",
        "  num_of_emps = 0\n",
        "  raise_amt =  1.04\n",
        "  def __init__(self, first ,last, pay):\n",
        "    self.first = first\n",
        "    self.last = last\n",
        "    self.pay = pay\n",
        "\n",
        "    Employee.num_of_emps += 1\n",
        "  # create another method\n",
        "  def fullname(self):\n",
        "    return '{} {}'.format(self.first, self.last)\n",
        "\n",
        "  def apply_raise(self):\n",
        "    self.pay = int(self.pay * self.raise_amount)\n",
        "    # using self with the raise_amount let's each object have their own raise amount\n",
        "\n",
        "  @classmethod # This will change the value for the whole class...\n",
        "  def set_raise_amt(cls, amount): # cannot use 'class' as argument\n",
        "    cls.raise_amt = amount\n",
        "\n",
        "emp_1 = Employee('Jon','Nguyen', 120_000)\n",
        "emp_2 = Employee('jake', 'letterman', 100_000)\n",
        "\n",
        "Employee.set_raise_amt(1.05)\n",
        "\n",
        "print(Employee.raise_amt)\n",
        "print(emp_1.fullname)\n",
        "print(emp_2.raise_amt)\n"
      ],
      "execution_count": 3,
      "outputs": [
        {
          "output_type": "stream",
          "text": [
            "1.05\n",
            "<bound method Employee.fullname of <__main__.Employee object at 0x7feb23966f60>>\n",
            "1.05\n"
          ],
          "name": "stdout"
        }
      ]
    },
    {
      "cell_type": "code",
      "metadata": {
        "id": "Os-royw5PKXj",
        "colab_type": "code",
        "colab": {}
      },
      "source": [
        "class Car:\n",
        "  # instantiate with first argument self\n",
        "  def __init__(self, make ,model, price):\n",
        "    self.make = make\n",
        "    self.model = model\n",
        "    self.price = price\n",
        "\n",
        "    \n",
        "  # create another method\n",
        "  def fullname(self):\n",
        "    return '{} {}'.format(self.make, self.model)\n",
        "\n",
        "  # Create a method to decrease price\n",
        "  def apply_depreciation(self):\n",
        "    self.price = int(self.price * self.lower_amount)\n",
        "    # using self with the raise_amount let's each object have their own raise amount\n",
        "\n",
        "  @classmethod # This will change the value for the whole class...\n",
        "  def set_lower_amount(cls, amount): # cannot use 'class' as argument\n",
        "    cls.lower_amount = amount\n",
        "\n",
        "  # Class method gives multiple ways of creating object.\n",
        "  @classmethod\n",
        "  def from_string(cls, car_str):\n",
        "    make, model, price = car_str.split('-')\n",
        "    return cls(make, model, price)\n",
        "\n"
      ],
      "execution_count": 0,
      "outputs": []
    },
    {
      "cell_type": "code",
      "metadata": {
        "id": "sRlSn2nglrRn",
        "colab_type": "code",
        "colab": {
          "base_uri": "https://localhost:8080/",
          "height": 68
        },
        "outputId": "a2561677-fa33-4bc1-d175-d34a6426846e"
      },
      "source": [
        "car1 = Car('Toyota', 'Celica', 15000)\n",
        "car2 = Car('Honda', 'Zonda', 30000)\n",
        "Car.set_lower_amount(0.85)\n",
        "print(car1.price)\n",
        "\n",
        "print(car1.lower_amount)\n",
        "car1.apply_depreciation()\n",
        "print(car1.price)"
      ],
      "execution_count": 62,
      "outputs": [
        {
          "output_type": "stream",
          "text": [
            "15000\n",
            "0.85\n",
            "12750\n"
          ],
          "name": "stdout"
        }
      ]
    },
    {
      "cell_type": "code",
      "metadata": {
        "id": "x0OBLt3jmT5b",
        "colab_type": "code",
        "colab": {
          "base_uri": "https://localhost:8080/",
          "height": 34
        },
        "outputId": "494ca39d-3f11-4ec3-a351-1bb2500fea69"
      },
      "source": [
        "  # What if get input info with strings with -s\n",
        "  car_str_1 = 'Toyota-Sienna-18000'\n",
        "  car_str_2 = 'BMW-325i-35000'\n",
        "  \n",
        "  make, model, price = car_str_1.split('-')\n",
        "  new_car_1 = Car(make, model, price)\n",
        "  \n",
        "  new_car_1.model\n",
        "\n",
        "  # That was explicit way, what about alternative constructor, see above\n",
        "  new_car_2 = Car.from_string(car_str_2)\n",
        "  print(new_car_2.make)"
      ],
      "execution_count": 72,
      "outputs": [
        {
          "output_type": "stream",
          "text": [
            "BMW\n"
          ],
          "name": "stdout"
        }
      ]
    },
    {
      "cell_type": "code",
      "metadata": {
        "id": "dI1ejOK4BwiJ",
        "colab_type": "code",
        "colab": {}
      },
      "source": [
        "# Regular methods have self as first arg\n",
        "# Class methods have cls as first\n",
        "# Static don't pass anything automatically\n",
        "\n",
        "class Car:\n",
        "  # instantiate with first argument self\n",
        "  def __init__(self, make ,model, price):\n",
        "    self.make = make\n",
        "    self.model = model\n",
        "    self.price = price\n",
        "\n",
        "    \n",
        "  # create another method\n",
        "  def fullname(self):\n",
        "    return '{} {}'.format(self.make, self.model)\n",
        "\n",
        "  # Create a method to decrease price\n",
        "  def apply_depreciation(self):\n",
        "    self.price = int(self.price * self.lower_amount)\n",
        "    # using self with the raise_amount let's each object have their own raise amount\n",
        "\n",
        "  @classmethod # This will change the value for the whole class...\n",
        "  def set_lower_amount(cls, amount): # cannot use 'class' as argument\n",
        "    cls.lower_amount = amount\n",
        "\n",
        "  # Class method gives multiple ways of creating object.\n",
        "  @classmethod\n",
        "  def from_string(cls, car_str):\n",
        "    make, model, price = car_str.split('-')\n",
        "    return cls(make, model, price)\n",
        "\n",
        "  # Use a static method if you don't have cls or self (don't need it)\n",
        "  @staticmethod\n",
        "  def is_workday(day):\n",
        "    # monday is 0, Sunday is 6\n",
        "    if day.weekday() == 5 or day.weekday() == 6:\n",
        "      return False\n",
        "    return True\n",
        "\n",
        "\n"
      ],
      "execution_count": 0,
      "outputs": []
    },
    {
      "cell_type": "code",
      "metadata": {
        "id": "kOxXy8SqHQs3",
        "colab_type": "code",
        "colab": {
          "base_uri": "https://localhost:8080/",
          "height": 34
        },
        "outputId": "8681fe45-b593-4b8f-a7e1-e5d72bdcc607"
      },
      "source": [
        "import datetime\n",
        "my_date = datetime.date(2016,7,10)\n",
        "# it's a sunday\n",
        "print(Car.is_workday(my_date))"
      ],
      "execution_count": 76,
      "outputs": [
        {
          "output_type": "stream",
          "text": [
            "False\n"
          ],
          "name": "stdout"
        }
      ]
    },
    {
      "cell_type": "code",
      "metadata": {
        "id": "1PyuXk6sHisd",
        "colab_type": "code",
        "colab": {}
      },
      "source": [
        ""
      ],
      "execution_count": 0,
      "outputs": []
    },
    {
      "cell_type": "markdown",
      "metadata": {
        "id": "x-vpcL3OH3H_",
        "colab_type": "text"
      },
      "source": [
        "# Practice 4"
      ]
    },
    {
      "cell_type": "code",
      "metadata": {
        "id": "kusOJFBPH65P",
        "colab_type": "code",
        "colab": {}
      },
      "source": [
        "# Inheritance\n",
        "\n",
        "class Suv(Car):\n",
        "  # if we want more arguments in a class, we have to init again\n",
        "  def __init__(self, make ,model, price, seats):\n",
        "    super().__init__(make, model, price)\n",
        "    self.seats = seats\n",
        "  lower_amount = 0.72\n",
        "  \n",
        "class Electric(Car):\n",
        "  def __init__(self, make ,model, price, kwH):\n",
        "    super().__init__(make, model, price)\n",
        "    self.kwH = kwH"
      ],
      "execution_count": 0,
      "outputs": []
    },
    {
      "cell_type": "code",
      "metadata": {
        "id": "iib9SDXJIMiR",
        "colab_type": "code",
        "colab": {
          "base_uri": "https://localhost:8080/",
          "height": 68
        },
        "outputId": "b9d3a897-c748-4326-d6ec-4a057d763486"
      },
      "source": [
        "# Everything was inherited from Car, and we can call everything we could in Suv\n",
        "suv1 = Suv('GMC', 'Yukon', 35000, 8)\n",
        "print(suv1.price)\n",
        "suv1.apply_depreciation()\n",
        "print(suv1.price)\n",
        "\n",
        "print(suv1.seats, 'seats')\n"
      ],
      "execution_count": 85,
      "outputs": [
        {
          "output_type": "stream",
          "text": [
            "35000\n",
            "25200\n",
            "8 seats\n"
          ],
          "name": "stdout"
        }
      ]
    },
    {
      "cell_type": "code",
      "metadata": {
        "id": "ZUEPMZVlIbWc",
        "colab_type": "code",
        "colab": {
          "base_uri": "https://localhost:8080/",
          "height": 34
        },
        "outputId": "9c403580-ffa5-4cb8-e22b-851bc9ac0486"
      },
      "source": [
        "el_car = Electric('Tesla', \"Model 3\", 42000, 90)\n",
        "\n",
        "el_car.kwH"
      ],
      "execution_count": 88,
      "outputs": [
        {
          "output_type": "execute_result",
          "data": {
            "text/plain": [
              "90"
            ]
          },
          "metadata": {
            "tags": []
          },
          "execution_count": 88
        }
      ]
    },
    {
      "cell_type": "code",
      "metadata": {
        "id": "EWDX6MsmLoBI",
        "colab_type": "code",
        "colab": {
          "base_uri": "https://localhost:8080/",
          "height": 34
        },
        "outputId": "16de5c56-6d03-412a-ab7c-65d015b8a4a7"
      },
      "source": [
        "# __ is double underscore or dunder\n",
        "# __repr__ unambiguous representation of object, used for debug and log\n",
        "# __str__ user friendly representation\n",
        "repr(el_car)\n",
        "str(suv1)"
      ],
      "execution_count": 92,
      "outputs": [
        {
          "output_type": "execute_result",
          "data": {
            "text/plain": [
              "'<__main__.Suv object at 0x7f66d7f732e8>'"
            ]
          },
          "metadata": {
            "tags": []
          },
          "execution_count": 92
        }
      ]
    },
    {
      "cell_type": "code",
      "metadata": {
        "id": "N-E8vkZZPyMQ",
        "colab_type": "code",
        "colab": {
          "base_uri": "https://localhost:8080/",
          "height": 51
        },
        "outputId": "e2730be4-6b87-4551-fee8-ccaab1f7b833"
      },
      "source": [
        "class Car:\n",
        "  # instantiate with first argument self\n",
        "  def __init__(self, make ,model, price):\n",
        "    self.make = make\n",
        "    self.model = model\n",
        "    self.price = price\n",
        "\n",
        "    \n",
        "  # create another method\n",
        "  def fullname(self):\n",
        "    return '{} {}'.format(self.make, self.model)\n",
        "\n",
        "  # Create a method to decrease price\n",
        "  def apply_depreciation(self):\n",
        "    self.price = int(self.price * self.lower_amount)\n",
        "    # using self with the raise_amount let's each object have their own raise amount\n",
        "\n",
        "  @classmethod # This will change the value for the whole class...\n",
        "  def set_lower_amount(cls, amount): # cannot use 'class' as argument\n",
        "    cls.lower_amount = amount\n",
        "\n",
        "  # Class method gives multiple ways of creating object.\n",
        "  @classmethod\n",
        "  def from_string(cls, car_str):\n",
        "    make, model, price = car_str.split('-')\n",
        "    return cls(make, model, price)\n",
        "\n",
        "  def __repr__(self):\n",
        "    return \"Car('{}','{}','{}')\".format(self.make, self.model, self.price)\n",
        "\n",
        "  def __str__(self):\n",
        "    return '{} - {}'.format(self.price, self.model)\n",
        "\n",
        "\n",
        "# Since these dunder methods are special and come with the basic python, you can\n",
        "# modify them in your class and use them how you like\n",
        "  def __len__(self):\n",
        "    return len(self.fullname())\n",
        "\n",
        "print(suv1.__repr__())\n",
        "print(el_car.__str__())"
      ],
      "execution_count": 109,
      "outputs": [
        {
          "output_type": "stream",
          "text": [
            "<__main__.Suv object at 0x7f66d7f732e8>\n",
            "<__main__.Electric object at 0x7f66d7b12908>\n"
          ],
          "name": "stdout"
        }
      ]
    },
    {
      "cell_type": "code",
      "metadata": {
        "id": "n0S8smTIQwUX",
        "colab_type": "code",
        "colab": {
          "base_uri": "https://localhost:8080/",
          "height": 163
        },
        "outputId": "ac588436-937f-41d4-95c4-e8ca8e6f27b5"
      },
      "source": [
        "len(suv1)"
      ],
      "execution_count": 111,
      "outputs": [
        {
          "output_type": "error",
          "ename": "TypeError",
          "evalue": "ignored",
          "traceback": [
            "\u001b[0;31m---------------------------------------------------------------------------\u001b[0m",
            "\u001b[0;31mTypeError\u001b[0m                                 Traceback (most recent call last)",
            "\u001b[0;32m<ipython-input-111-bebd4935ea8e>\u001b[0m in \u001b[0;36m<module>\u001b[0;34m()\u001b[0m\n\u001b[0;32m----> 1\u001b[0;31m \u001b[0mlen\u001b[0m\u001b[0;34m(\u001b[0m\u001b[0msuv1\u001b[0m\u001b[0;34m)\u001b[0m\u001b[0;34m\u001b[0m\u001b[0;34m\u001b[0m\u001b[0m\n\u001b[0m",
            "\u001b[0;31mTypeError\u001b[0m: object of type 'Suv' has no len()"
          ]
        }
      ]
    },
    {
      "cell_type": "markdown",
      "metadata": {
        "id": "MjZasF0qU0QN",
        "colab_type": "text"
      },
      "source": [
        "#Final Video\n",
        "Property decorators\n",
        "\n",
        "allow getter setters and deleters"
      ]
    },
    {
      "cell_type": "code",
      "metadata": {
        "id": "Wgg3sJGp7npc",
        "colab_type": "code",
        "colab": {
          "base_uri": "https://localhost:8080/",
          "height": 51
        },
        "outputId": "95e0ee1d-f41a-4a94-fb24-bd28fa4bd11f"
      },
      "source": [
        "class Car:\n",
        "  # instantiate with first argument self\n",
        "  def __init__(self, make ,model, price):\n",
        "    self.make = make\n",
        "    self.model = model\n",
        "    self.price = price\n",
        "\n",
        "    \n",
        "  # create another method\n",
        "  @property \n",
        "  # @property lets you access it as an attribute also\n",
        "  def fullname(self):\n",
        "    return '{} {}'.format(self.make, self.model)\n",
        "  \n",
        "  @fullname.setter\n",
        "  # setter is made with the method of interest, passed in full name to split\n",
        "  def fullname(self, name):\n",
        "    make, model = name.split(' ')\n",
        "    self.make = make\n",
        "    self.model = model\n",
        "\n",
        "\n",
        "car3 = Car('Cadilac', 'Escalade',  65000)\n",
        "car3.model = 'CTS'\n",
        "\n",
        "# print(car3.fullname())\n",
        "print(car3.fullname)\n",
        "\n",
        "\n",
        "# Because of the setter here we can set a string as parts\n",
        "car4 = Car('Mini', 'Cooper', 20000)\n",
        "car4.fullname = 'Mazda Miata'\n",
        "print(car4.make)"
      ],
      "execution_count": 9,
      "outputs": [
        {
          "output_type": "stream",
          "text": [
            "Cadilac CTS\n",
            "Mazda\n"
          ],
          "name": "stdout"
        }
      ]
    },
    {
      "cell_type": "code",
      "metadata": {
        "id": "9qy9cwFU8Fn3",
        "colab_type": "code",
        "colab": {}
      },
      "source": [
        "# Property decorator is very handy when changing methods and attributes so\n",
        "# people can use them as they have been"
      ],
      "execution_count": 0,
      "outputs": []
    }
  ]
}