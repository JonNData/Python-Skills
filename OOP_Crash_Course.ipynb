{
  "nbformat": 4,
  "nbformat_minor": 0,
  "metadata": {
    "colab": {
      "name": "OOP Crash Course.ipynb",
      "provenance": [],
      "collapsed_sections": [],
      "include_colab_link": true
    },
    "kernelspec": {
      "name": "python3",
      "display_name": "Python 3"
    }
  },
  "cells": [
    {
      "cell_type": "markdown",
      "metadata": {
        "id": "view-in-github",
        "colab_type": "text"
      },
      "source": [
        "<a href=\"https://colab.research.google.com/github/JonNData/Python-Skills/blob/master/OOP_Crash_Course.ipynb\" target=\"_parent\"><img src=\"https://colab.research.google.com/assets/colab-badge.svg\" alt=\"Open In Colab\"/></a>"
      ]
    },
    {
      "cell_type": "markdown",
      "metadata": {
        "id": "EdMkSHwNeVjQ",
        "colab_type": "text"
      },
      "source": [
        "# Part 1"
      ]
    },
    {
      "cell_type": "markdown",
      "metadata": {
        "id": "fbbQp-_13bth",
        "colab_type": "text"
      },
      "source": [
        "[Corey Schafer Tutorial Videos on OOP](https://www.youtube.com/watch?v=ZDa-Z5JzLYM&list=PL-osiE80TeTsqhIuOqKhwlXsIBIdSeYtc)"
      ]
    },
    {
      "cell_type": "markdown",
      "metadata": {
        "id": "03QyIk3qPug9",
        "colab_type": "text"
      },
      "source": [
        "Creating a class uses the class keyword followed by the class name in CamelCase. This is an empty class."
      ]
    },
    {
      "cell_type": "code",
      "metadata": {
        "id": "G13OjOCtOXSv",
        "colab_type": "code",
        "colab": {}
      },
      "source": [
        "class Car:\n",
        "  pass"
      ],
      "execution_count": 0,
      "outputs": []
    },
    {
      "cell_type": "markdown",
      "metadata": {
        "id": "wB5ny8yRPy69",
        "colab_type": "text"
      },
      "source": [
        "Here we have a very basic class with `__init__` and one other function.\n",
        "- `__init__` is a special type of function called a [dunder method](https://www.geeksforgeeks.org/dunder-magic-methods-python/). These dunder methods overwrite how common Python functions interact with your class. The `__init__` function tells Python how to setup an instance of your class object when it is created, usually defining initial attributes based off the parameters.\n",
        "- While `__init__` is an extremely common function in class, it is not required.\n",
        "- [Almost all functions](https://realpython.com/instance-class-and-static-methods-demystified/) in a class require `self` to be the first argument, even if you have no other parameters. `self` represents an instance of the class and in short, it allows us to be at the right [scope](https://en.wikipedia.org/wiki/Scope_(computer_science)) level.\n",
        "- Functions in a class may be used to do anything a function would normally do, but they may also use and alter instance and class attributes.\n",
        "- To reference instance level attributes we need to preceed them with `self`\n"
      ]
    },
    {
      "cell_type": "code",
      "metadata": {
        "id": "btBqqPDPJ-_q",
        "colab_type": "code",
        "colab": {}
      },
      "source": [
        "class Car:\n",
        "\n",
        "  def __init__(self, doors, eng_size, is_electric=False):\n",
        "    self.doors = doors\n",
        "    self.eng_size = eng_size\n",
        "    self.is_electric = is_electric\n",
        "\n",
        "  def turn_on_vehicle(self):\n",
        "    if self.is_electric:\n",
        "      print('Ding!')\n",
        "    else:\n",
        "      print('Vroom vroom!')"
      ],
      "execution_count": 0,
      "outputs": []
    },
    {
      "cell_type": "markdown",
      "metadata": {
        "id": "LSHuZJK9bd8r",
        "colab_type": "text"
      },
      "source": [
        "Creating an instance of a class object is called instantiation. Instantiation should feel familiar, it's what we do when we create objects like dataframes or models."
      ]
    },
    {
      "cell_type": "code",
      "metadata": {
        "id": "-dJtAfhcMJAu",
        "colab_type": "code",
        "colab": {}
      },
      "source": [
        "# The parameters you need to pass to create an object is based off __init__\n",
        "a_car = Car(4,'four cylinder', False)"
      ],
      "execution_count": 0,
      "outputs": []
    },
    {
      "cell_type": "code",
      "metadata": {
        "id": "x8lFc2v_cKis",
        "colab_type": "code",
        "outputId": "29d2b09d-6bfb-4f6b-9298-140ec52d2379",
        "colab": {
          "base_uri": "https://localhost:8080/",
          "height": 72
        }
      },
      "source": [
        "# We can access the attributes of our object\n",
        "print('Doors:', a_car.doors)\n",
        "print('Engine Size:', a_car.eng_size)\n",
        "print('Is Electric?:', a_car.is_electric)"
      ],
      "execution_count": 0,
      "outputs": [
        {
          "output_type": "stream",
          "text": [
            "Doors: 4\n",
            "Engine Size: four cylinder\n",
            "Is Electric?: False\n"
          ],
          "name": "stdout"
        }
      ]
    },
    {
      "cell_type": "code",
      "metadata": {
        "id": "52r6zWwdg0pB",
        "colab_type": "code",
        "outputId": "f8f0aa64-7511-4377-aec0-88cc13759545",
        "colab": {
          "base_uri": "https://localhost:8080/",
          "height": 53
        }
      },
      "source": [
        "# And we can update the value of those attributes\n",
        "print('Doors:', a_car.doors)\n",
        "a_car.doors = 3\n",
        "print('Doors:', a_car.doors)"
      ],
      "execution_count": 0,
      "outputs": [
        {
          "output_type": "stream",
          "text": [
            "Doors: 4\n",
            "Doors: 3\n"
          ],
          "name": "stdout"
        }
      ]
    },
    {
      "cell_type": "code",
      "metadata": {
        "id": "4tN4b-r9Mc1H",
        "colab_type": "code",
        "outputId": "a7b1a88e-8997-44b8-bdd7-abfc7f04ea1f",
        "colab": {
          "base_uri": "https://localhost:8080/",
          "height": 35
        }
      },
      "source": [
        "# We call object functions in a very similar way to the attributes\n",
        "a_car.turn_on_vehicle()"
      ],
      "execution_count": 0,
      "outputs": [
        {
          "output_type": "stream",
          "text": [
            "Vroom vroom!\n"
          ],
          "name": "stdout"
        }
      ]
    },
    {
      "cell_type": "code",
      "metadata": {
        "id": "we54IVZ-TGMG",
        "colab_type": "code",
        "colab": {}
      },
      "source": [
        "# You can even call dunder methods directly but this isn't best practice.\n",
        "a_car.__init__(4,'four cylinder', False)"
      ],
      "execution_count": 0,
      "outputs": []
    },
    {
      "cell_type": "code",
      "metadata": {
        "id": "YACaAFsY6crv",
        "colab_type": "code",
        "outputId": "7b66737b-6b4e-460c-f4c6-3d2b6efd150c",
        "colab": {
          "base_uri": "https://localhost:8080/",
          "height": 35
        }
      },
      "source": [
        "print(a_car)"
      ],
      "execution_count": 0,
      "outputs": [
        {
          "output_type": "stream",
          "text": [
            "<__main__.Car object at 0x7fa257f989e8>\n"
          ],
          "name": "stdout"
        }
      ]
    },
    {
      "cell_type": "code",
      "metadata": {
        "id": "0yb-XfDY6c06",
        "colab_type": "code",
        "outputId": "f3f6e901-42c9-4342-b0cc-9a2eab780c7a",
        "colab": {
          "base_uri": "https://localhost:8080/",
          "height": 35
        }
      },
      "source": [
        "a_car"
      ],
      "execution_count": 0,
      "outputs": [
        {
          "output_type": "execute_result",
          "data": {
            "text/plain": [
              "<__main__.Car at 0x7fa257f989e8>"
            ]
          },
          "metadata": {
            "tags": []
          },
          "execution_count": 63
        }
      ]
    },
    {
      "cell_type": "markdown",
      "metadata": {
        "id": "QH5dJUJte9_J",
        "colab_type": "text"
      },
      "source": [
        "# Part 2"
      ]
    },
    {
      "cell_type": "code",
      "metadata": {
        "id": "hgb6iJKEdNNR",
        "colab_type": "code",
        "colab": {}
      },
      "source": [
        "class Car:\n",
        "\n",
        "  def __init__(self, doors, eng_size, is_electric=False):\n",
        "    self.doors = doors\n",
        "    self.eng_size = eng_size\n",
        "    self.is_electric = is_electric\n",
        "    self.is_turned_on = False\n",
        "\n",
        "  # New dunder methods\n",
        "  def __str__(self):\n",
        "    return f'This is a car with {self.doors} doors.'\n",
        "  \n",
        "  def __repr__(self):\n",
        "    return str({'doors': self.doors,\n",
        "                'eng_size': self.eng_size,\n",
        "                'is_electric': self.is_electric})\n",
        "  \n",
        "  # Updated function to update an instance attribute as \n",
        "  # well as print a startup sound\n",
        "  def turn_on_vehicle(self):\n",
        "    if self.is_turned_on:\n",
        "      print('Car is already on')\n",
        "    elif self.is_electric:\n",
        "      print('Ding!')\n",
        "    else:\n",
        "      print('Vroom vroom!')\n",
        "    self.is_turned_on = True"
      ],
      "execution_count": 0,
      "outputs": []
    },
    {
      "cell_type": "code",
      "metadata": {
        "id": "NT5JSl4UfndR",
        "colab_type": "code",
        "colab": {}
      },
      "source": [
        "# Instatiate a new car object\n",
        "a_car = Car(1, 'four cylinder', False)"
      ],
      "execution_count": 0,
      "outputs": []
    },
    {
      "cell_type": "markdown",
      "metadata": {
        "id": "v8D5n7L-pxTo",
        "colab_type": "text"
      },
      "source": [
        "Dunder methods overwrite Python functionality for reserved words. They can be helpful to allow your classes to interact with Python in the same manner as native objects/datatypes. With `__str__` we are telling Python how to behave if it is typecasted as a string."
      ]
    },
    {
      "cell_type": "code",
      "metadata": {
        "id": "bSUrCL8XfrmI",
        "colab_type": "code",
        "outputId": "9473cb3e-f65e-47bf-f2f8-9edfdd22c967",
        "colab": {
          "base_uri": "https://localhost:8080/",
          "height": 53
        }
      },
      "source": [
        "print(a_car)\n",
        "str(a_car)"
      ],
      "execution_count": 0,
      "outputs": [
        {
          "output_type": "stream",
          "text": [
            "This is a car with 1 doors.\n"
          ],
          "name": "stdout"
        },
        {
          "output_type": "execute_result",
          "data": {
            "text/plain": [
              "'This is a car with 1 doors.'"
            ]
          },
          "metadata": {
            "tags": []
          },
          "execution_count": 68
        }
      ]
    },
    {
      "cell_type": "markdown",
      "metadata": {
        "id": "81QLgOLxsoev",
        "colab_type": "text"
      },
      "source": [
        "`__repr__` is the more formal string representation of your string, used when you use `repr` or simply type out the object name by itself.\n",
        "\n",
        "[Explanation of repr vs str](https://www.geeksforgeeks.org/str-vs-repr-in-python/)"
      ]
    },
    {
      "cell_type": "code",
      "metadata": {
        "id": "7TK3zTuahpk7",
        "colab_type": "code",
        "outputId": "8912be85-0158-41fa-840a-d2c0556f2b56",
        "colab": {
          "base_uri": "https://localhost:8080/",
          "height": 35
        }
      },
      "source": [
        "a_car"
      ],
      "execution_count": 0,
      "outputs": [
        {
          "output_type": "execute_result",
          "data": {
            "text/plain": [
              "{'doors': 1, 'eng_size': 'four cylinder', 'is_electric': False}"
            ]
          },
          "metadata": {
            "tags": []
          },
          "execution_count": 69
        }
      ]
    },
    {
      "cell_type": "code",
      "metadata": {
        "id": "NjLZTATwiEtZ",
        "colab_type": "code",
        "outputId": "0cf794be-f19f-46d5-954c-6956c6dda670",
        "colab": {
          "base_uri": "https://localhost:8080/",
          "height": 72
        }
      },
      "source": [
        "# Our updated function now changes its output and variables in our car instance \n",
        "a_car.turn_on_vehicle()\n",
        "a_car.turn_on_vehicle()\n",
        "a_car.is_turned_on"
      ],
      "execution_count": 0,
      "outputs": [
        {
          "output_type": "stream",
          "text": [
            "Vroom vroom!\n",
            "Car is already on\n"
          ],
          "name": "stdout"
        },
        {
          "output_type": "execute_result",
          "data": {
            "text/plain": [
              "True"
            ]
          },
          "metadata": {
            "tags": []
          },
          "execution_count": 70
        }
      ]
    },
    {
      "cell_type": "markdown",
      "metadata": {
        "id": "NwcndF97vXco",
        "colab_type": "text"
      },
      "source": [
        "# Part 3"
      ]
    },
    {
      "cell_type": "code",
      "metadata": {
        "colab_type": "code",
        "id": "-qPHa8Fmvb9L",
        "colab": {}
      },
      "source": [
        "class Car:\n",
        "\n",
        "  def __init__(self, doors, eng_size, is_electric=False):\n",
        "    self.doors = doors\n",
        "    self.eng_size = eng_size\n",
        "    self.is_electric = is_electric\n",
        "    self.is_turned_on = False\n",
        "\n",
        "  def __str__(self):\n",
        "    return f'This is a car with {self.doors} doors.'\n",
        "  \n",
        "  def __repr__(self):\n",
        "    return str({'doors': self.doors,\n",
        "                'eng_size': self.eng_size,\n",
        "                'is_electric': self.is_electric})\n",
        "\n",
        "  def turn_on_vehicle(self):\n",
        "    if self.is_turned_on:\n",
        "      print('Car is already on')\n",
        "    elif self.is_electric:\n",
        "      print('Ding!')\n",
        "    else:\n",
        "      print('Vroom vroom!')\n",
        "    self.is_turned_on = True"
      ],
      "execution_count": 0,
      "outputs": []
    },
    {
      "cell_type": "code",
      "metadata": {
        "id": "DRkKitMFvmWS",
        "colab_type": "code",
        "colab": {}
      },
      "source": [
        "class Tesla(Car): # The class in parentheses is the parent class we are inheriting from\n",
        "\n",
        "  def __init__(self, doors, model, driverless_enabled=False):\n",
        "    # Super calls the init of the parent class\n",
        "    super().__init__(doors, 'None', True)\n",
        "    # New variables specific to the Tesla (child) class\n",
        "    self.model = model\n",
        "    self.driverless_enabled = driverless_enabled\n",
        "\n",
        "  # We can overwrite the behavior of functions in the Parent class\n",
        "  def turn_on_vehicle(self):\n",
        "    if self.is_turned_on:\n",
        "      print('Tesla is already on')\n",
        "    else:\n",
        "      print('Ding!')\n",
        "    self.is_turned_on = True\n",
        "  \n",
        "  # We can also add totally new functions just for the child class\n",
        "  def enable_driverless(self, paid=False):\n",
        "    if paid:\n",
        "      self.driverless_enabled = True\n",
        "    else:\n",
        "      return 'Enabling this feature must be done by an authorized Tesla Dealer'"
      ],
      "execution_count": 0,
      "outputs": []
    },
    {
      "cell_type": "markdown",
      "metadata": {
        "id": "6gEO54I2ynoS",
        "colab_type": "text"
      },
      "source": [
        "Tesla inherits from Car\n",
        "- Inheritance allows us to define a class that inherits all the methods and properties from another class\n",
        "- Parent class is the class being inherited from (`Car`)\n",
        "- Child class is the class that inherits from another class (`Tesla`)\n",
        "- Inheritance generally makes intuitive sense on whether you should do it or not. If you can say that one class is a subset/more specialized version of another class then you should use inheritance.\n",
        "- `super()` allows us to access properties and methods of the parent class. The most common reason to use `super()` is to call the parent `__init__` so we don't have to retype the contents of that method."
      ]
    },
    {
      "cell_type": "code",
      "metadata": {
        "id": "4poHxbPMw4G2",
        "colab_type": "code",
        "colab": {}
      },
      "source": [
        "# Instantiate a new Tesla object\n",
        "tesla_s = Tesla(4, 'S', False)"
      ],
      "execution_count": 0,
      "outputs": []
    },
    {
      "cell_type": "code",
      "metadata": {
        "id": "Yr2iRHA40hgf",
        "colab_type": "code",
        "outputId": "86b94233-c4bd-4bd4-b4f0-3dfc714fb300",
        "colab": {
          "base_uri": "https://localhost:8080/",
          "height": 72
        }
      },
      "source": [
        "# We can access the attributes we inherited from our parent class\n",
        "print('Doors:', tesla_s.doors)\n",
        "print('Engine Size:', tesla_s.eng_size)\n",
        "print('Is Electric?:', tesla_s.is_electric)"
      ],
      "execution_count": 0,
      "outputs": [
        {
          "output_type": "stream",
          "text": [
            "Doors: 4\n",
            "Engine Size: None\n",
            "Is Electric?: True\n"
          ],
          "name": "stdout"
        }
      ]
    },
    {
      "cell_type": "code",
      "metadata": {
        "id": "7Jjm5N810hlM",
        "colab_type": "code",
        "outputId": "7ff1491c-69cb-4b68-c828-7188d407cd98",
        "colab": {
          "base_uri": "https://localhost:8080/",
          "height": 53
        }
      },
      "source": [
        "# We can also access the attributes that are unique to the child\n",
        "print('Model:', tesla_s.model)\n",
        "print('Driverless?:', tesla_s.driverless_enabled)"
      ],
      "execution_count": 0,
      "outputs": [
        {
          "output_type": "stream",
          "text": [
            "Model: S\n",
            "Driverless?: False\n"
          ],
          "name": "stdout"
        }
      ]
    },
    {
      "cell_type": "code",
      "metadata": {
        "id": "GHNh3ayuxD_V",
        "colab_type": "code",
        "outputId": "92ede1f9-8d5f-4a52-c69c-8fad1eebe058",
        "colab": {
          "base_uri": "https://localhost:8080/",
          "height": 53
        }
      },
      "source": [
        "# We see the function we overwrote now has new behavior\n",
        "tesla_s.turn_on_vehicle()\n",
        "tesla_s.turn_on_vehicle()"
      ],
      "execution_count": 0,
      "outputs": [
        {
          "output_type": "stream",
          "text": [
            "Ding!\n",
            "Tesla is already on\n"
          ],
          "name": "stdout"
        }
      ]
    },
    {
      "cell_type": "code",
      "metadata": {
        "id": "ZBjwRakw1mJT",
        "colab_type": "code",
        "outputId": "b585e479-0e4f-456c-b3a8-1bd7bd1325ba",
        "colab": {
          "base_uri": "https://localhost:8080/",
          "height": 35
        }
      },
      "source": [
        "# And functions from the parent class that we did not overwrite (str and repr) are still there\n",
        "tesla_s"
      ],
      "execution_count": 0,
      "outputs": [
        {
          "output_type": "execute_result",
          "data": {
            "text/plain": [
              "{'doors': 4, 'eng_size': 'None', 'is_electric': True}"
            ]
          },
          "metadata": {
            "tags": []
          },
          "execution_count": 54
        }
      ]
    },
    {
      "cell_type": "code",
      "metadata": {
        "id": "BMv4qvyWxiC_",
        "colab_type": "code",
        "outputId": "3e162b21-4fcb-43ac-fbf8-19b395b12dde",
        "colab": {
          "base_uri": "https://localhost:8080/",
          "height": 35
        }
      },
      "source": [
        "# Finally, functions that are brand new work as well\n",
        "tesla_s.enable_driverless()"
      ],
      "execution_count": 0,
      "outputs": [
        {
          "output_type": "execute_result",
          "data": {
            "text/plain": [
              "'Enabling this feature must be done by an authorized Tesla Dealer'"
            ]
          },
          "metadata": {
            "tags": []
          },
          "execution_count": 46
        }
      ]
    },
    {
      "cell_type": "code",
      "metadata": {
        "id": "nzvgndvmyMCp",
        "colab_type": "code",
        "outputId": "9ec96fad-d8ee-4c1b-85ad-6d4ca19bc305",
        "colab": {
          "base_uri": "https://localhost:8080/",
          "height": 53
        }
      },
      "source": [
        "print('Driverless?:', tesla_s.driverless_enabled)\n",
        "tesla_s.enable_driverless(True)\n",
        "print('Driverless?:', tesla_s.driverless_enabled)"
      ],
      "execution_count": 0,
      "outputs": [
        {
          "output_type": "stream",
          "text": [
            "Driverless?: False\n",
            "Driverless?: True\n"
          ],
          "name": "stdout"
        }
      ]
    }
  ]
}