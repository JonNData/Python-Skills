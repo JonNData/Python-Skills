{
  "nbformat": 4,
  "nbformat_minor": 0,
  "metadata": {
    "colab": {
      "name": "Object Oriented Programming.ipynb",
      "provenance": [],
      "include_colab_link": true
    },
    "kernelspec": {
      "name": "python3",
      "display_name": "Python 3"
    }
  },
  "cells": [
    {
      "cell_type": "markdown",
      "metadata": {
        "id": "view-in-github",
        "colab_type": "text"
      },
      "source": [
        "<a href=\"https://colab.research.google.com/github/JonNData/Python-Skills/blob/master/Object_Oriented_Programming.ipynb\" target=\"_parent\"><img src=\"https://colab.research.google.com/assets/colab-badge.svg\" alt=\"Open In Colab\"/></a>"
      ]
    },
    {
      "cell_type": "markdown",
      "metadata": {
        "id": "Y_eYWaAze1OX",
        "colab_type": "text"
      },
      "source": [
        "# Object Oriented Programming\n",
        "\n",
        "### Class Attributes\n",
        "\n",
        "A class (also known as an object) is a template container of sorts that holds variables. Instances are copies of the original programmed class. Any change made to an instance is unique to that copy. A variable can contain values, functions, or class instances, both of these are referred to as a class's attributes.\n",
        "Instance is just a copy of the class, independent assignments. \n",
        "\n",
        "```python\n",
        "class Vector2D:\n",
        "  x = None # undefined attribute\n",
        "  y = None # undefined attribute\n",
        "\n",
        "class MyClass:\n",
        "  my_int = 5 # int attribute\n",
        "  my_vector = Vector2D() # class attribute\n",
        "```\n",
        "\n",
        "However, classes also contain functions, which are also objects.\n",
        "```python\n",
        "class Vector2D:\n",
        "  x = None # undefined attribute\n",
        "  y = None # undefined attribute\n",
        "\n",
        "  def get_magnitude():\n",
        "    return (x**2 + y**2)**0.5\n",
        "```\n",
        "\n",
        "These won't work because there's no self. Won't know x and ys. Self directs the method\n",
        "\n",
        "### Class Functions/Methods\n",
        "\n",
        "A function belonging to a class is called a method. The `get_magnitude()` function contains the correct formula for calculating the magnitude of a 2d vector. However, it hasn't been told where to find x and y. Enter the `self` argument. `self` is a keyword that says \"hey, this is you, use your own stuff for this.\" Any variable attached to a class must be referenced using self. For a function to have access to its parent class, you must ask for self as the first parameter. Let's fix `get_magnitude()`.\n",
        "\n",
        "```python\n",
        "class Vector2D:\n",
        "  x = None # undefined attribute\n",
        "  y = None # undefined attribute\n",
        "\n",
        "  def get_magnitude(self):\n",
        "    return (self.x**2 + self.y**2)**0.5\n",
        "```\n",
        "\n",
        "Failing to use `self` is akin to saying \"There's a bug on an arm, squash it\". It doesn't know who's arm. Using `self` corrects the phrase to \"There's a bug on ***your*** arm, squash it\"\n",
        "\n",
        "It should be noted that `self` is automatically passed from the class to the function when you call it, so you don't need to pass it yourself. Here's an example of the correct syntax to call `get_magnitude()`:\n",
        "```python\n",
        "my_vector = Vector2D()\n",
        "my_vector.x = 3\n",
        "my_vector.y = 2\n",
        "print(my_vector.get_magnitude())\n",
        "```\n",
        "\n",
        "### Class Instantiation\n",
        "So you've learned that a class is a container for attribute and function variables. But what does the template part of that mean? When you define a class, you tell it \"This is your name, and here are your default values. Change these only after you've been copied\". As an example, let's look back at `Vector2D`. Any time you want to make a new copy of that class, you'll call the class name with invoking parentheses as such: `Vector2D()`. By doing this, you've told python to make a copy of that code, but you haven't stored it as a variable. Let's do that instead. \n",
        "```python\n",
        "my_vector = Vector2D()\n",
        "```\n",
        "\n",
        "Now let's talk about the constructor function. The constructor function of a class is a function named `__init__` that is called on a new copy of a class. It **must** take self as a parameter, but aside from that you can ask for whatever other variables you'd like in the parenthesis. Let's see an example of `Vector2D` with a constructor. \n",
        "```python\n",
        "class Vector2D:\n",
        "  x = None\n",
        "  y = None\n",
        "\n",
        "  def __init__(self, new_x=None, new_y=None):\n",
        "    self.x = new_x\n",
        "    self.y = new_y\n",
        "```\n",
        "You should know already that the syntax above makes `new_x` and `new_y` optional arguments. Let's see an example of how these get used:\n",
        "```python\n",
        "my_vector = Vector2D(1, 3)\n",
        "print((my_vector.x, my_vector.y))\n",
        "```\n",
        "output:\n",
        "\n",
        "`(1, 3)`\n",
        "\n",
        "From this example, you can see that x and y are respectively initialized to be 1 and 3 at the end of the call. \n",
        "\n",
        "### Class Attribute and Function Naming\n",
        "\n",
        "Class attributes and functions use names from the same list. This means that if you create a function with the same name as an attribute you've already made, that attribute gets over-written and ceases to exist as a part of the class. \n",
        "\n",
        "Here's an example of that:\n",
        "```python\n",
        "class MyClass:\n",
        "  sample_attribute = 5\n",
        "\n",
        "  def sample_attribute(self):\n",
        "    return \"this is overwriting 5\"\n",
        "```\n",
        "\n",
        "Now, if you refer to an instance of MyClass's `sample_attribute` attribute, python will return `<bound method MyClass.attribute of <__main__.MyClass object at {some memory location}>>` instead of `5`.\n",
        "\n",
        "This is order based from top to bottom, so only the bottom most definition will persist. If you were to swap the positions, python would return the expected `5`. \n",
        "\n",
        "\n",
        "### Class Inheritance\n",
        "\n",
        "Classes can also inherit from other classes. The \"Parent Class\" is the class being inherited from, and the \"Child Class\" is the class doing the inheriting. Let's use `Vector2D` as a parent class. Let's say we want to expand on Vector2D by adding another dimension, but want to keep the classes separate. Here's our example `Vector2D`:\n",
        "```python\n",
        "class Vector2D:\n",
        "  x = None\n",
        "  y = None\n",
        "\n",
        "  def __init__(self, new_x=None, new_y=None):\n",
        "    self.x = new_x\n",
        "    self.y = new_y\n",
        "\n",
        "  def get_magnitude(self):\n",
        "    return (self.x**2 + self.y**2)**0.5\n",
        "```\n",
        "\n",
        "Here's an example Vector3D:\n",
        "\n",
        "```python\n",
        "class Vector3D:\n",
        "  x = None\n",
        "  y = None\n",
        "  z = None\n",
        "\n",
        "  def __init__(self, new_x=None, new_y=None, new_z=None):\n",
        "    self.x = new_x\n",
        "    self.y = new_y\n",
        "    self.z = new_z\n",
        "\n",
        "  def get_magnitude(self):\n",
        "    return (self.x**2 + self.y**2 + self.z**2)**0.5\n",
        "```\n",
        "You can see in this example that the code is mostly repetitive. Surely there's a way to shorten this, right? This is where inheritance comes in. To specify that one class inherits from another, when you define the class name, you add invoking parameters with the parent's name inside. For Vector3D, that's look like this:\n",
        "```python\n",
        "class Vector3D(Vector2D):\n",
        "  z = None\n",
        "\n",
        "  def __init__(self, new_x=None, new_y=None, new_z=None):\n",
        "    self.x = new_x\n",
        "    self.y = new_y\n",
        "    self.z = new_z\n",
        "```\n",
        "A new constructor is required to handle the new values being initialized, but the function `get_magnitude()` still exists in Vector3D even without being told explicitly, since it inherits from Vector2D. Let's try running it! \n",
        "```python\n",
        "my_vector = Vector3D(1,2,15)\n",
        "print(my_vector.get_magnitude())\n",
        "```\n",
        "output:\n",
        "`2.23606797749979`\n",
        "\n",
        "This doesn't seem like the magnitude, right? \n",
        "This is because the inherited function only calculates using x and y. If we want z to be included, we need to over-write the function. Let's do that.\n",
        "\n",
        "```python\n",
        "class Vector3D(Vector2D):\n",
        "  z = None\n",
        "\n",
        "  def __init__(self, new_x=None, new_y=None, new_z=None):\n",
        "    self.x = new_x\n",
        "    self.y = new_y\n",
        "    self.z = new_z\n",
        "\n",
        "  def get_magnitude(self):\n",
        "    return (self.x**2 + self.y**2 + self.z**2)**0.5\n",
        "```\n",
        "Now let's try again!\n",
        "```python\n",
        "my_vector = Vector3D(1,2,15)\n",
        "print(my_vector.get_magnitude())\n",
        "```\n",
        "output:\n",
        "`15.165750888103101`\n",
        "\n",
        "This is the new correct magnitude using all 3 dimensions. Any other function in the parent class will be inherited as they are defined in the parent class, using only the variables in the parent class.\n",
        "\n",
        "Now that we have a child class that correctly inherits from and adjusts the objects found in the parent class, we can rest easy knowing it works.\n",
        "\n",
        "But what if we want to use the parent's version of the function? (Using 2d from 3d). A feature accessible from only inside of the child class is the `super()` function. This allows you to call functions from the parent class as they are in the parent class using inherited members.\n",
        "\n",
        "Does not work:\n",
        "```python\n",
        "my_vector = Vector3D(1,2,15)\n",
        "my_vector.super().get_magnitude()\n",
        "```\n",
        "this doesn't work because you aren't calling the `super()` function from within the class, you're calling it externally. However, if you add a new function called `get_magnitude_2d()` that returns a call to super, you can. \n",
        "\n",
        "Works:\n",
        "```python\n",
        "class Vector3D(Vector2D):\n",
        "  z = None\n",
        "\n",
        "  def __init__(self, new_x=None, new_y=None, new_z=None):\n",
        "    self.x = new_x\n",
        "    self.y = new_y\n",
        "    self.z = new_z\n",
        "\n",
        "  def get_magnitude(self):\n",
        "    return (self.x**2 + self.y**2 + self.z**2)**0.5\n",
        "\n",
        "  def get_magnitude_2d(self):\n",
        "    return super().get_magnitude()\n",
        "```\n",
        "```python\n",
        "my_vector = Vector3D(1,2,15)\n",
        "print(my_vector.get_magnitude_2d())\n",
        "```\n",
        "output:\n",
        "\n",
        "`2.23606797749979`"
      ]
    },
    {
      "cell_type": "code",
      "metadata": {
        "id": "1qXUklYPuMb1",
        "colab_type": "code",
        "outputId": "8c72daf5-138a-467e-db96-3cad36211a12",
        "colab": {
          "base_uri": "https://localhost:8080/",
          "height": 34
        }
      },
      "source": [
        "class Vector2D:\n",
        "  x = None\n",
        "  y = None\n",
        "\n",
        "# without constructor\n",
        "my_vector = Vector2D()\n",
        "my_vector.x = 1\n",
        "my_vector.y = 3\n",
        "\n",
        "print((my_vector.x, my_vector.y))"
      ],
      "execution_count": 0,
      "outputs": [
        {
          "output_type": "stream",
          "text": [
            "(1, 3)\n"
          ],
          "name": "stdout"
        }
      ]
    },
    {
      "cell_type": "code",
      "metadata": {
        "id": "04ijh_Q0p_vQ",
        "colab_type": "code",
        "outputId": "8f7c9970-badb-41bb-8efc-2956db8909c2",
        "colab": {
          "base_uri": "https://localhost:8080/",
          "height": 50
        }
      },
      "source": [
        "class Vector2D:\n",
        "  x = None\n",
        "  y = None\n",
        "\n",
        "  def __init__(self, new_x=None, new_y=None):\n",
        "    self.x = new_x\n",
        "    self.y = new_y\n",
        "\n",
        "# with constructor\n",
        "my_vector = Vector2D(1, 3)\n",
        "print('With initialized values:', (my_vector.x, my_vector.y))\n",
        "\n",
        "# with constructor without initializing values\n",
        "vec = Vector2D()\n",
        "print('Without initialized values:', (vec.x, vec.y))"
      ],
      "execution_count": 0,
      "outputs": [
        {
          "output_type": "stream",
          "text": [
            "With initialized values: (1, 3)\n",
            "Without initialized values: (None, None)\n"
          ],
          "name": "stdout"
        }
      ]
    },
    {
      "cell_type": "code",
      "metadata": {
        "id": "-CyzCp_deyU1",
        "colab_type": "code",
        "outputId": "9d80e642-3dfc-4146-c488-8f7083dd0a7e",
        "colab": {
          "base_uri": "https://localhost:8080/",
          "height": 51
        }
      },
      "source": [
        "class MyClass:\n",
        "  attribute = 5\n",
        "\n",
        "  def attribute(self):\n",
        "    return \"this is overwriting 5\"\n",
        "\n",
        "my_class = MyClass()\n",
        "\n",
        "# function persists\n",
        "print(my_class.attribute)\n",
        "\n",
        "try: # try to do this\n",
        "  print(my_class.attribute())\n",
        "\n",
        "except: # if you fail\n",
        "  print('Cannot call object type')"
      ],
      "execution_count": 0,
      "outputs": [
        {
          "output_type": "stream",
          "text": [
            "<bound method MyClass.attribute of <__main__.MyClass object at 0x7f334a94ef60>>\n",
            "this is overwriting 5\n"
          ],
          "name": "stdout"
        }
      ]
    },
    {
      "cell_type": "code",
      "metadata": {
        "id": "fXFDW-BolVDf",
        "colab_type": "code",
        "outputId": "6a46ba33-c572-4bec-988d-6630b64eed1f",
        "colab": {
          "base_uri": "https://localhost:8080/",
          "height": 51
        }
      },
      "source": [
        "class MyClass: # reversed order\n",
        "  def attribute(self):\n",
        "    return \"this is overwriting 5\"\n",
        "\n",
        "  attribute = 5\n",
        "\n",
        "my_class = MyClass()\n",
        "\n",
        "# int persists\n",
        "print(my_class.attribute)\n",
        "\n",
        "try: # try to do this\n",
        "  print(my_class.attribute())\n",
        "\n",
        "except: # if you fail\n",
        "  print('Cannot call object type')"
      ],
      "execution_count": 0,
      "outputs": [
        {
          "output_type": "stream",
          "text": [
            "5\n",
            "Cannot call object type\n"
          ],
          "name": "stdout"
        }
      ]
    },
    {
      "cell_type": "code",
      "metadata": {
        "id": "ol-O3EFEvjIx",
        "colab_type": "code",
        "colab": {}
      },
      "source": [
        "class Vector2D:\n",
        "  x = None\n",
        "  y = None\n",
        " \n",
        "  def __init__(self, new_x=None, new_y=None):\n",
        "    self.x = new_x\n",
        "    self.y = new_y\n",
        " \n",
        "  def get_magnitude(self):\n",
        "    return (self.x**2 + self.y**2)**0.5\n",
        "\n",
        "class Vector3D(Vector2D):\n",
        "  z = None\n",
        " \n",
        "  def __init__(self, new_x=None, new_y=None, new_z=None):\n",
        "    self.x = new_x\n",
        "    self.y = new_y\n",
        "    self.z = new_z\n",
        " \n",
        " # This one is telling you to modify the print\n",
        "  def __repr__(self):\n",
        "    return f'{[self.x, self.y, self.z]}'\n",
        "\n",
        "  def get_magnitude(self):\n",
        "    return (self.x**2 + self.y**2 + self.z**2)**0.5\n",
        "\n",
        "  def get_magnitude_2d(self):\n",
        "    return super().get_magnitude()"
      ],
      "execution_count": 0,
      "outputs": []
    },
    {
      "cell_type": "code",
      "metadata": {
        "id": "PT3QJF1Pvj-n",
        "colab_type": "code",
        "outputId": "3c27031b-e24f-4247-de1d-8cc0e48ff25a",
        "colab": {
          "base_uri": "https://localhost:8080/",
          "height": 34
        }
      },
      "source": [
        "vec_3d = Vector3D(1,2,15)\n",
        "print(vec_3d.get_magnitude())"
      ],
      "execution_count": 0,
      "outputs": [
        {
          "output_type": "stream",
          "text": [
            "15.165750888103101\n"
          ],
          "name": "stdout"
        }
      ]
    },
    {
      "cell_type": "code",
      "metadata": {
        "id": "AfCNvXXKwVdp",
        "colab_type": "code",
        "outputId": "5f19f58d-52a6-4c85-ec3a-db9c08b21316",
        "colab": {
          "base_uri": "https://localhost:8080/",
          "height": 34
        }
      },
      "source": [
        "vec_3d.get_magnitude_2d()"
      ],
      "execution_count": 0,
      "outputs": [
        {
          "output_type": "execute_result",
          "data": {
            "text/plain": [
              "2.23606797749979"
            ]
          },
          "metadata": {
            "tags": []
          },
          "execution_count": 7
        }
      ]
    },
    {
      "cell_type": "code",
      "metadata": {
        "id": "MQ0-sL1DwtCW",
        "colab_type": "code",
        "outputId": "42ff1c05-79b3-4462-e676-253777a2a84a",
        "colab": {
          "base_uri": "https://localhost:8080/",
          "height": 34
        }
      },
      "source": [
        "print(vec_3d)"
      ],
      "execution_count": 0,
      "outputs": [
        {
          "output_type": "stream",
          "text": [
            "[1, 2, 15]\n"
          ],
          "name": "stdout"
        }
      ]
    },
    {
      "cell_type": "markdown",
      "metadata": {
        "id": "wLtomou4n6cd",
        "colab_type": "text"
      },
      "source": [
        "module is a .py file under something\n",
        "\n",
        "sklearn library\n",
        "\n",
        "preprocessing module\n",
        "\n",
        "test_train_split class"
      ]
    },
    {
      "cell_type": "markdown",
      "metadata": {
        "id": "fTmiEuLTod2t",
        "colab_type": "text"
      },
      "source": [
        "model = LinearRegression()\n",
        "This instantiates, class has self already there, can call hyperparams\n",
        "\n",
        "model.fit(x_train, y_train) This calls the fit method of the LinearRegression class, applies many functions and attributes, modifies attributes and stores it back on the class\n",
        "\n",
        "model.predict(x_val) This uses the predict method to apply the model that we stored to the new x_val data.\n"
      ]
    },
    {
      "cell_type": "code",
      "metadata": {
        "id": "OWs3BjFqUsOE",
        "colab_type": "code",
        "colab": {}
      },
      "source": [
        "# CLASSES SPRINT\n",
        "\n",
        "# acme_corp/acme.py\n",
        "import random\n",
        "\n",
        "class Product:\n",
        "    \"\"\"\n",
        "    Create a Product class with defaults\n",
        "    \"\"\"\n",
        "    \n",
        "    def __init__(\n",
        "        self, name=None, price=10, weight=20, flammability=0.5,\n",
        "         identifier=random.randint(1_000_000, 9_999_999)\n",
        "         ):\n",
        "        self.name = name\n",
        "        self.price = price\n",
        "        self.weight = weight\n",
        "        self.flammability = flammability\n",
        "        self.identifier = identifier\n",
        "\n",
        "    def stealability(self):\n",
        "        \"\"\"\n",
        "        Returns how stealable product is\n",
        "        \"\"\"\n",
        "        swipe = self.price * self.weight\n",
        "        # Set conditions for stealability. This setup has simpler inequalities\n",
        "        if swipe < 0.5:\n",
        "            return print(\"Not so stealable...\")\n",
        "        elif swipe > 1:\n",
        "            return print(\"Very stealable!\")\n",
        "        else:\n",
        "            return print(\"Kinda stealable.\")\n",
        "\n",
        "\n",
        "    def explode(self):\n",
        "        \"\"\"\n",
        "        Go kaboom? Find out\n",
        "        \"\"\"\n",
        "        ignition_chance = self.flammability * self.weight\n",
        "        \n",
        "        if ignition_chance < 10:\n",
        "            return print(\"...fizzle.\")\n",
        "        elif ignition_chance > 50:\n",
        "            return print(\"...BABOOM!!\")\n",
        "        else:\n",
        "            return print(\"...boom!\")\n",
        "\n",
        "class BoxingGlove(Product):\n",
        "    \"\"\"\n",
        "    Create a BoxingGlove subclass with one default change\n",
        "    \"\"\"\n",
        "    def __init__(\n",
        "        self, name=None, price=10, weight=10, flammability=0.5,\n",
        "         identifier=random.randint(1_000_000, 9_999_999)\n",
        "         ):\n",
        "         super().__init__(name, price, weight, flammability, identifier)\n",
        "    \n",
        "    def explode(self):\n",
        "        \"\"\"\n",
        "        Go kaboom? Find out, glove edition.\n",
        "        \"\"\"\n",
        "        return print(\"...it's a glove.\")\n",
        "\n",
        "    def punch(self):\n",
        "        \"\"\"\n",
        "        Accelerate a fist toward an object\n",
        "        \"\"\"\n",
        "        if self.weight < 5:\n",
        "            return print(\"That tickles.\")\n",
        "        elif self.weight > 15:\n",
        "            return print(\"OUCH!\")\n",
        "        else:\n",
        "            return print(\"Hey that hurt!\")"
      ],
      "execution_count": 0,
      "outputs": []
    },
    {
      "cell_type": "code",
      "metadata": {
        "id": "JRfvVFseUthm",
        "colab_type": "code",
        "colab": {
          "base_uri": "https://localhost:8080/",
          "height": 34
        },
        "outputId": "b97302e8-d689-4453-8de0-75a51ba11768"
      },
      "source": [
        "from random import randint, sample, uniform\n",
        "ADJECTIVES = ['Awesome', 'Shiny', 'Impressive', 'Portable', 'Improved']\n",
        "NOUNS = ['Anvil', 'Catapult', 'Disguise', 'Mousetrap', '???']\n",
        "name = sample(ADJECTIVES, k=1) \n",
        "name1 = sample(NOUNS,1)\n",
        "\n",
        "name3 = ' '.join(name + name1)\n",
        "name3"
      ],
      "execution_count": 2,
      "outputs": [
        {
          "output_type": "execute_result",
          "data": {
            "text/plain": [
              "'Portable ???'"
            ]
          },
          "metadata": {
            "tags": []
          },
          "execution_count": 2
        }
      ]
    },
    {
      "cell_type": "code",
      "metadata": {
        "id": "7DeFGlRyUx-g",
        "colab_type": "code",
        "colab": {}
      },
      "source": [
        "def generate_products(num_products=30):\n",
        "    \"\"\"\n",
        "    takes num_products and return a list of random products\n",
        "    \"\"\"\n",
        "    products = []\n",
        "    for i in range(0,num_products):\n",
        "        name = ADJECTIVES[randint(0,4)] + ' ' + NOUNS[randint(0,4)]\n",
        "        prod = Product(\n",
        "            name,\n",
        "            price=randint(5, 100),\n",
        "            weight=randint(5, 100),\n",
        "            flammability=uniform(0, 2.5)\n",
        "         )\n",
        "        products.append(name)\n",
        "    return products"
      ],
      "execution_count": 0,
      "outputs": []
    },
    {
      "cell_type": "code",
      "metadata": {
        "id": "GBl54nHMU0FN",
        "colab_type": "code",
        "colab": {}
      },
      "source": [
        "def inventory_report(products):\n",
        "    \"\"\"\n",
        "    Makes a 'nice' summary from a products list\n",
        "    \"\"\"\n",
        "    prices = 0\n",
        "    weights = 0\n",
        "    flammabilities = 0\n",
        "\n",
        "    for i in range(0,len(products)):\n",
        "        prod = Product(\n",
        "            name=products[i],\n",
        "            price=randint(5, 100),\n",
        "            weight=randint(5, 100),\n",
        "            flammability=uniform(0, 2.5)\n",
        "         )\n",
        "        prices += prod.price\n",
        "        weights += prod.weight\n",
        "        flammabilities += prod.flammability\n",
        "    print('ACME CORPORATION OFFICIAL INVENTORY REPORT')\n",
        "    print('Average price: ', prices/len(products))\n",
        "    print('Average weight: ', weights/len(products))\n",
        "    print('Average flammability: ', round(flammabilities/len(products), 2))"
      ],
      "execution_count": 0,
      "outputs": []
    },
    {
      "cell_type": "code",
      "metadata": {
        "id": "xNzQQ7aRU2Nm",
        "colab_type": "code",
        "colab": {}
      },
      "source": [
        ""
      ],
      "execution_count": 0,
      "outputs": []
    }
  ]
}