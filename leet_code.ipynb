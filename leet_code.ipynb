{
  "nbformat": 4,
  "nbformat_minor": 0,
  "metadata": {
    "colab": {
      "name": "leet-code.ipynb",
      "provenance": [],
      "authorship_tag": "ABX9TyM+w7nycVrk+bSS4biWZ64O",
      "include_colab_link": true
    },
    "kernelspec": {
      "name": "python3",
      "display_name": "Python 3"
    }
  },
  "cells": [
    {
      "cell_type": "markdown",
      "metadata": {
        "id": "view-in-github",
        "colab_type": "text"
      },
      "source": [
        "<a href=\"https://colab.research.google.com/github/JonNData/Python-Skills/blob/master/leet_code.ipynb\" target=\"_parent\"><img src=\"https://colab.research.google.com/assets/colab-badge.svg\" alt=\"Open In Colab\"/></a>"
      ]
    },
    {
      "cell_type": "markdown",
      "metadata": {
        "id": "gIRc8w_fpBo6",
        "colab_type": "text"
      },
      "source": [
        "## 58. Length of Last Word\n",
        "Given a string s consists of upper/lower-case alphabets and empty space characters ' ', return the length of last word (last word means the last appearing word if we loop from left to right) in the string.\n",
        "\n",
        "If the last word does not exist, return 0."
      ]
    },
    {
      "cell_type": "code",
      "metadata": {
        "id": "Wz3_9H2No61V",
        "colab_type": "code",
        "colab": {}
      },
      "source": [
        "class Solution:\n",
        "    def lengthOfLastWord(self, s: str) -> int:\n",
        "        x =  s.split(\" \")[::-1]\n",
        "        for split in x:\n",
        "            if split.isalpha():\n",
        "                return len(split)\n",
        "        return 0"
      ],
      "execution_count": null,
      "outputs": []
    },
    {
      "cell_type": "markdown",
      "metadata": {
        "id": "bRmQOS4dwl3x",
        "colab_type": "text"
      },
      "source": [
        "## 1395. Count Number of Teams\n",
        "There are n soldiers standing in a line. Each soldier is assigned a unique rating value.\n",
        "\n",
        "You have to form a team of 3 soldiers amongst them under the following rules:\n",
        "\n",
        "Choose 3 soldiers with index (i, j, k) with rating (rating[i], rating[j], rating[k]).\n",
        "A team is valid if:  (rating[i] < rating[j] < rating[k]) or (rating[i] > rating[j] > rating[k]) where (0 <= i < j < k < n).\n",
        "Return the number of teams you can form given the conditions. (soldiers can be part of multiple teams)."
      ]
    },
    {
      "cell_type": "code",
      "metadata": {
        "id": "JOzcSwugwmBu",
        "colab_type": "code",
        "colab": {}
      },
      "source": [
        "class Solution:\n",
        "    def numTeams(self, rating: List[int]) -> int:\n",
        "        def get_all_poss_teams():\n",
        "            possible_teams = list()\n",
        "            for i, soldier_1 in enumerate(rating[:-2]):\n",
        "                for j, soldier_2 in enumerate(rating[i+1:]):\n",
        "                    for soldier_3 in rating[i+j+2:]:\n",
        "                        possible_teams.append([soldier_1,soldier_2,soldier_3])\n",
        "            return possible_teams\n",
        "        def validate_poss_teams(possible_teams):\n",
        "            valid_teams = 0\n",
        "            for team in possible_teams:\n",
        "                team_order, team_reverse = team.copy(), team.copy()\n",
        "                team_order.sort()\n",
        "                team_reverse.sort(reverse=True)\n",
        "                if team_order == team or team_reverse == team:\n",
        "                    valid_teams += 1\n",
        "            return valid_teams\n",
        "        possible_teams = get_all_poss_teams()\n",
        "        return validate_poss_teams(possible_teams)"
      ],
      "execution_count": 2,
      "outputs": []
    }
  ]
}