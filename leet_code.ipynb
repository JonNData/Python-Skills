{
  "nbformat": 4,
  "nbformat_minor": 0,
  "metadata": {
    "colab": {
      "name": "leet-code.ipynb",
      "provenance": [],
      "authorship_tag": "ABX9TyPdJpG2eOAo/61JD6sajL2o",
      "include_colab_link": true
    },
    "kernelspec": {
      "name": "python3",
      "display_name": "Python 3"
    }
  },
  "cells": [
    {
      "cell_type": "markdown",
      "metadata": {
        "id": "view-in-github",
        "colab_type": "text"
      },
      "source": [
        "<a href=\"https://colab.research.google.com/github/JonNData/Python-Skills/blob/master/leet_code.ipynb\" target=\"_parent\"><img src=\"https://colab.research.google.com/assets/colab-badge.svg\" alt=\"Open In Colab\"/></a>"
      ]
    },
    {
      "cell_type": "markdown",
      "metadata": {
        "id": "gIRc8w_fpBo6",
        "colab_type": "text"
      },
      "source": [
        "## 58. Length of Last Word\n",
        "Given a string s consists of upper/lower-case alphabets and empty space characters ' ', return the length of last word (last word means the last appearing word if we loop from left to right) in the string.\n",
        "\n",
        "If the last word does not exist, return 0."
      ]
    },
    {
      "cell_type": "code",
      "metadata": {
        "id": "Wz3_9H2No61V",
        "colab_type": "code",
        "colab": {}
      },
      "source": [
        "class Solution:\n",
        "    def lengthOfLastWord(self, s: str) -> int:\n",
        "        x =  s.split(\" \")[::-1]\n",
        "        for split in x:\n",
        "            if split.isalpha():\n",
        "                return len(split)\n",
        "        return 0"
      ],
      "execution_count": null,
      "outputs": []
    }
  ]
}