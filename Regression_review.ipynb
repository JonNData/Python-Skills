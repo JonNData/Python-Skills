{
  "nbformat": 4,
  "nbformat_minor": 0,
  "metadata": {
    "colab": {
      "name": "Regression review",
      "provenance": [],
      "authorship_tag": "ABX9TyMiZw06Q7xFwD8vAWQ8pjdD",
      "include_colab_link": true
    },
    "kernelspec": {
      "name": "python3",
      "display_name": "Python 3"
    }
  },
  "cells": [
    {
      "cell_type": "markdown",
      "metadata": {
        "id": "view-in-github",
        "colab_type": "text"
      },
      "source": [
        "<a href=\"https://colab.research.google.com/github/JonNData/Python-Skills/blob/master/Regression_review.ipynb\" target=\"_parent\"><img src=\"https://colab.research.google.com/assets/colab-badge.svg\" alt=\"Open In Colab\"/></a>"
      ]
    },
    {
      "cell_type": "code",
      "metadata": {
        "id": "8kpPC2qtKP08",
        "colab_type": "code",
        "colab": {
          "base_uri": "https://localhost:8080/",
          "height": 204
        },
        "outputId": "baaf39dd-9ab6-41fb-dfa2-c29488b859d8"
      },
      "source": [
        "import pandas as pd\n",
        "import numpy as np\n",
        "\"\"\" Create some data \"\"\"\n",
        "# Set random seed\n",
        "np.random.seed(seed=42)\n",
        "\n",
        "# Create some data\n",
        "data = pd.DataFrame({\"height\":[121,208,144,162,198,105],\n",
        "                     \"weight\":[88,167,129,138,102,90], \n",
        "                     \"cardio\":[70,75,82,73,68,54], \n",
        "                     \"recovery\":[96,92,108,144,125,181], \n",
        "                     \"performance\":['good','good','very good',\n",
        "                                    'bad','very bad','very bad'], \n",
        "                     \"sex\":['m','f','f','m','f','m'], \n",
        "                     \"med_indicator\":[1.62,2.88,1.79,4.81,1.05,1.26]})\n",
        "data.head()"
      ],
      "execution_count": 7,
      "outputs": [
        {
          "output_type": "execute_result",
          "data": {
            "text/html": [
              "<div>\n",
              "<style scoped>\n",
              "    .dataframe tbody tr th:only-of-type {\n",
              "        vertical-align: middle;\n",
              "    }\n",
              "\n",
              "    .dataframe tbody tr th {\n",
              "        vertical-align: top;\n",
              "    }\n",
              "\n",
              "    .dataframe thead th {\n",
              "        text-align: right;\n",
              "    }\n",
              "</style>\n",
              "<table border=\"1\" class=\"dataframe\">\n",
              "  <thead>\n",
              "    <tr style=\"text-align: right;\">\n",
              "      <th></th>\n",
              "      <th>height</th>\n",
              "      <th>weight</th>\n",
              "      <th>cardio</th>\n",
              "      <th>recovery</th>\n",
              "      <th>performance</th>\n",
              "      <th>sex</th>\n",
              "      <th>med_indicator</th>\n",
              "    </tr>\n",
              "  </thead>\n",
              "  <tbody>\n",
              "    <tr>\n",
              "      <th>0</th>\n",
              "      <td>121</td>\n",
              "      <td>88</td>\n",
              "      <td>70</td>\n",
              "      <td>96</td>\n",
              "      <td>good</td>\n",
              "      <td>m</td>\n",
              "      <td>1.62</td>\n",
              "    </tr>\n",
              "    <tr>\n",
              "      <th>1</th>\n",
              "      <td>208</td>\n",
              "      <td>167</td>\n",
              "      <td>75</td>\n",
              "      <td>92</td>\n",
              "      <td>good</td>\n",
              "      <td>f</td>\n",
              "      <td>2.88</td>\n",
              "    </tr>\n",
              "    <tr>\n",
              "      <th>2</th>\n",
              "      <td>144</td>\n",
              "      <td>129</td>\n",
              "      <td>82</td>\n",
              "      <td>108</td>\n",
              "      <td>very good</td>\n",
              "      <td>f</td>\n",
              "      <td>1.79</td>\n",
              "    </tr>\n",
              "    <tr>\n",
              "      <th>3</th>\n",
              "      <td>162</td>\n",
              "      <td>138</td>\n",
              "      <td>73</td>\n",
              "      <td>144</td>\n",
              "      <td>bad</td>\n",
              "      <td>m</td>\n",
              "      <td>4.81</td>\n",
              "    </tr>\n",
              "    <tr>\n",
              "      <th>4</th>\n",
              "      <td>198</td>\n",
              "      <td>102</td>\n",
              "      <td>68</td>\n",
              "      <td>125</td>\n",
              "      <td>very bad</td>\n",
              "      <td>f</td>\n",
              "      <td>1.05</td>\n",
              "    </tr>\n",
              "  </tbody>\n",
              "</table>\n",
              "</div>"
            ],
            "text/plain": [
              "   height  weight  cardio  recovery performance sex  med_indicator\n",
              "0     121      88      70        96        good   m           1.62\n",
              "1     208     167      75        92        good   f           2.88\n",
              "2     144     129      82       108   very good   f           1.79\n",
              "3     162     138      73       144         bad   m           4.81\n",
              "4     198     102      68       125    very bad   f           1.05"
            ]
          },
          "metadata": {
            "tags": []
          },
          "execution_count": 7
        }
      ]
    },
    {
      "cell_type": "code",
      "metadata": {
        "id": "wF_2jwGHLKlB",
        "colab_type": "code",
        "colab": {}
      },
      "source": [
        "# create y target vector and x feature matrix\n",
        "target= 'performance'\n",
        "features = ['sex', 'cardio']"
      ],
      "execution_count": 0,
      "outputs": []
    },
    {
      "cell_type": "code",
      "metadata": {
        "id": "ufA4Y4b8L7k7",
        "colab_type": "code",
        "colab": {}
      },
      "source": [
        "# Create train and test split to not have it memorize data instead of the relationship\n",
        "from sklearn.model_selection import train_test_split\n",
        "train, test = train_test_split(data, random_state=42)"
      ],
      "execution_count": 0,
      "outputs": []
    },
    {
      "cell_type": "code",
      "metadata": {
        "id": "CIs8KlaZODEl",
        "colab_type": "code",
        "colab": {}
      },
      "source": [
        "# split x and y\n",
        "X_train = train[features]\n",
        "y_train = train[target]\n",
        "X_test = test[features]\n",
        "y_test = test[target]"
      ],
      "execution_count": 0,
      "outputs": []
    },
    {
      "cell_type": "code",
      "metadata": {
        "id": "5_HPFqtHNOIq",
        "colab_type": "code",
        "colab": {}
      },
      "source": [
        "# gotta encode sex\n",
        "from sklearn.preprocessing import OneHotEncoder\n",
        "encoder = OneHotEncoder()\n",
        "X_train_encoded = encoder.fit_transform(X_train[['sex']], X_train['cardio'])"
      ],
      "execution_count": 0,
      "outputs": []
    },
    {
      "cell_type": "code",
      "metadata": {
        "id": "bK2S_bM6OdZO",
        "colab_type": "code",
        "colab": {}
      },
      "source": [
        "X_test_encoded = encoder.transform(X_test[['sex']])"
      ],
      "execution_count": 0,
      "outputs": []
    },
    {
      "cell_type": "code",
      "metadata": {
        "id": "ZxsQ_WtfQRmD",
        "colab_type": "code",
        "colab": {
          "base_uri": "https://localhost:8080/",
          "height": 85
        },
        "outputId": "986b1193-9247-42a3-f537-018c3d4f5947"
      },
      "source": [
        "print(X_train_encoded)"
      ],
      "execution_count": 21,
      "outputs": [
        {
          "output_type": "stream",
          "text": [
            "  (0, 1)\t1.0\n",
            "  (1, 0)\t1.0\n",
            "  (2, 0)\t1.0\n",
            "  (3, 1)\t1.0\n"
          ],
          "name": "stdout"
        }
      ]
    },
    {
      "cell_type": "code",
      "metadata": {
        "id": "kDmYUqf2QYZX",
        "colab_type": "code",
        "colab": {}
      },
      "source": [
        "from sklearn.linear_model import LogisticRegression"
      ],
      "execution_count": 0,
      "outputs": []
    },
    {
      "cell_type": "code",
      "metadata": {
        "id": "xV13fzgBQ2HS",
        "colab_type": "code",
        "colab": {
          "base_uri": "https://localhost:8080/",
          "height": 102
        },
        "outputId": "dd057cf4-c0dd-437d-c95a-734e19d44bc6"
      },
      "source": [
        "# Instantiate\n",
        "log_reg = LogisticRegression()\n",
        "log_reg.fit(X_train_encoded,y_train)"
      ],
      "execution_count": 27,
      "outputs": [
        {
          "output_type": "execute_result",
          "data": {
            "text/plain": [
              "LogisticRegression(C=1.0, class_weight=None, dual=False, fit_intercept=True,\n",
              "                   intercept_scaling=1, l1_ratio=None, max_iter=100,\n",
              "                   multi_class='auto', n_jobs=None, penalty='l2',\n",
              "                   random_state=None, solver='lbfgs', tol=0.0001, verbose=0,\n",
              "                   warm_start=False)"
            ]
          },
          "metadata": {
            "tags": []
          },
          "execution_count": 27
        }
      ]
    },
    {
      "cell_type": "code",
      "metadata": {
        "id": "oa6TW1RZRbIK",
        "colab_type": "code",
        "colab": {
          "base_uri": "https://localhost:8080/",
          "height": 34
        },
        "outputId": "9664f0f1-df2c-41a1-ee06-769d4555e0ac"
      },
      "source": [
        "from sklearn.metrics import accuracy_score\n",
        "y_pred = log_reg.predict(X_train_encoded)\n",
        "accuracy_score(y_train, y_pred)"
      ],
      "execution_count": 28,
      "outputs": [
        {
          "output_type": "execute_result",
          "data": {
            "text/plain": [
              "0.5"
            ]
          },
          "metadata": {
            "tags": []
          },
          "execution_count": 28
        }
      ]
    },
    {
      "cell_type": "code",
      "metadata": {
        "id": "8XibZhfLQ5jT",
        "colab_type": "code",
        "colab": {}
      },
      "source": [
        ""
      ],
      "execution_count": 0,
      "outputs": []
    },
    {
      "cell_type": "markdown",
      "metadata": {
        "id": "0cYCpBR3WZTA",
        "colab_type": "text"
      },
      "source": [
        "# Now for linear"
      ]
    },
    {
      "cell_type": "code",
      "metadata": {
        "id": "rExfmbvmWjsp",
        "colab_type": "code",
        "colab": {}
      },
      "source": [
        "# y target vector, x feature matrix\n",
        "target= 'cardio'\n",
        "features = ['height', 'performance']\n",
        "\n",
        "X = data[features]\n",
        "y = data[target]"
      ],
      "execution_count": 0,
      "outputs": []
    },
    {
      "cell_type": "code",
      "metadata": {
        "id": "ljXdpVbSYLY7",
        "colab_type": "code",
        "colab": {}
      },
      "source": [
        "encoder_2 = OneHotEncoder()\n",
        "X_enc = encoder_2.fit_transform(X[['perfomance']], y=X['height'])"
      ],
      "execution_count": 0,
      "outputs": []
    },
    {
      "cell_type": "code",
      "metadata": {
        "id": "tmG37ORaYli_",
        "colab_type": "code",
        "colab": {}
      },
      "source": [
        "from sklearn.linear_model import LinearRegression\n",
        "from sklearn.metrics import mean_absolute_error, r2_score"
      ],
      "execution_count": 0,
      "outputs": []
    },
    {
      "cell_type": "code",
      "metadata": {
        "id": "d2MbVSzkZmyh",
        "colab_type": "code",
        "colab": {}
      },
      "source": [
        "# fit transform when we encode we want to change.\n",
        "# the regression model  just needs to be fit\n",
        "# here we fit it, train it, on x seeking a y\n",
        "lin_reg = LinearRegression()\n",
        "lin_reg.fit(X_enc, y)"
      ],
      "execution_count": 0,
      "outputs": []
    },
    {
      "cell_type": "code",
      "metadata": {
        "id": "1dyVjz91a-mY",
        "colab_type": "code",
        "colab": {}
      },
      "source": [
        "# predict\n",
        "y_pred_val = lin_reg.predict(X_enc)\n",
        "lin_reg.predict(actual, vs y_pred)\n",
        "\n",
        "mean_absolute_error(y, y_pred_val)\n",
        "r2_score((y,y_pred_val))"
      ],
      "execution_count": 0,
      "outputs": []
    },
    {
      "cell_type": "code",
      "metadata": {
        "id": "wnhyDVuAcD5b",
        "colab_type": "code",
        "colab": {}
      },
      "source": [
        ""
      ],
      "execution_count": 0,
      "outputs": []
    }
  ]
}