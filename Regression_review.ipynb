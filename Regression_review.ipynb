{
  "nbformat": 4,
  "nbformat_minor": 0,
  "metadata": {
    "kernelspec": {
      "display_name": "Python 3",
      "language": "python",
      "name": "python3"
    },
    "language_info": {
      "codemirror_mode": {
        "name": "ipython",
        "version": 3
      },
      "file_extension": ".py",
      "mimetype": "text/x-python",
      "name": "python",
      "nbconvert_exporter": "python",
      "pygments_lexer": "ipython3",
      "version": "3.7.4"
    },
    "colab": {
      "name": "Regression review.ipynb",
      "provenance": [],
      "include_colab_link": true
    }
  },
  "cells": [
    {
      "cell_type": "markdown",
      "metadata": {
        "id": "view-in-github",
        "colab_type": "text"
      },
      "source": [
        "<a href=\"https://colab.research.google.com/github/JonNData/Python-Skills/blob/master/Regression_review.ipynb\" target=\"_parent\"><img src=\"https://colab.research.google.com/assets/colab-badge.svg\" alt=\"Open In Colab\"/></a>"
      ]
    },
    {
      "cell_type": "code",
      "metadata": {
        "id": "0zXiG3tWksEy",
        "colab_type": "code",
        "colab": {}
      },
      "source": [
        "\"\"\" Import EDA libraries \"\"\"\n",
        "import pandas as pd\n",
        "import numpy as np"
      ],
      "execution_count": 0,
      "outputs": []
    },
    {
      "cell_type": "code",
      "metadata": {
        "id": "_N8oW1u1ksE4",
        "colab_type": "code",
        "colab": {}
      },
      "source": [
        "\"\"\" Create some data \"\"\"\n",
        "# Set random seed\n",
        "np.random.seed(seed=42)\n",
        "\n",
        "# Create some data\n",
        "data = pd.DataFrame({\"height\":[121,208,144,162,198,105],\n",
        "                     \"weight\":[88,167,129,138,102,90], \n",
        "                     \"cardio\":[70,75,82,73,68,54], \n",
        "                     \"recovery\":[96,92,108,144,125,181], \n",
        "                     \"performance\":['good','good','very good',\n",
        "                                    'bad','very bad','very bad'], \n",
        "                     \"sex\":['m','f','f','m','f','m'], \n",
        "                     \"med_indicator\":[1.62,2.88,1.79,4.81,1.05,1.26]})\n",
        "\n",
        "# Observe first 5 lines of the data\n",
        "data.head()"
      ],
      "execution_count": 0,
      "outputs": []
    },
    {
      "cell_type": "code",
      "metadata": {
        "id": "ToWzclYyksE7",
        "colab_type": "code",
        "colab": {}
      },
      "source": [
        "\"\"\" create y target vector and x feature matrix \"\"\"\n",
        "target = 'performance'\n",
        "features = ['sex', 'cardio']"
      ],
      "execution_count": 0,
      "outputs": []
    },
    {
      "cell_type": "code",
      "metadata": {
        "id": "79WoJrU1ksE_",
        "colab_type": "code",
        "colab": {}
      },
      "source": [
        "from sklearn.model_selection import train_test_split\n",
        "# create training and test split\n",
        "train, test = train_test_split(data, random_state=42)"
      ],
      "execution_count": 0,
      "outputs": []
    },
    {
      "cell_type": "code",
      "metadata": {
        "id": "afFK9ShNksFC",
        "colab_type": "code",
        "colab": {}
      },
      "source": [
        "from sklearn.preprocessing import OneHotEncoder\n",
        "\n",
        "# split X and y\n",
        "X_train = train[features]\n",
        "y_train = train[target]\n",
        "\n",
        "X_test = test[features]\n",
        "y_test = test[target]\n",
        "\n",
        "# instantiate and fit / transform our non-numeric categorical data\n",
        "encoder = OneHotEncoder()\n",
        "X_train_enc = encoder.fit_transform(X_train[['sex']], y=X_train['cardio'])\n",
        "X_test_enc = encoder.transform(X_test[['sex']])"
      ],
      "execution_count": 0,
      "outputs": []
    },
    {
      "cell_type": "code",
      "metadata": {
        "id": "ii8zU8RpksFF",
        "colab_type": "code",
        "colab": {}
      },
      "source": [
        "from sklearn.linear_model import LogisticRegression\n",
        "from sklearn.metrics import accuracy_score\n",
        "\n",
        "# instantiate the model\n",
        "log_reg = LogisticRegression(solver=\"lbfgs\")\n",
        "\n",
        "# fit the model\n",
        "log_reg.fit(X_train_enc, y_train)\n",
        "\n",
        "# make a prediction\n",
        "y_pred = log_reg.predict(X_train_enc)\n",
        "print(accuracy_score(y_train, y_pred))"
      ],
      "execution_count": 0,
      "outputs": []
    },
    {
      "cell_type": "code",
      "metadata": {
        "id": "9X_VdKJFksFI",
        "colab_type": "code",
        "colab": {}
      },
      "source": [
        "\"\"\" Get predictions for the test data \"\"\"\n",
        "y_pred_test = log_reg.predict(X_test_enc)\n",
        "print(accuracy_score(y_test, y_pred_test))"
      ],
      "execution_count": 0,
      "outputs": []
    },
    {
      "cell_type": "code",
      "metadata": {
        "id": "85Tb-jPiksFL",
        "colab_type": "code",
        "colab": {}
      },
      "source": [
        "\"\"\" Linear Regression \"\"\"\n",
        "\n",
        "# create y target vector, X feature matrix\n",
        "target = 'cardio'\n",
        "feature = ['height', 'performance']"
      ],
      "execution_count": 0,
      "outputs": []
    },
    {
      "cell_type": "code",
      "metadata": {
        "id": "pH5szKuSksFS",
        "colab_type": "code",
        "colab": {}
      },
      "source": [
        "\"\"\" Next step \"\"\"\n",
        "X = data[feature]\n",
        "y = data[target]\n",
        "\n",
        "X"
      ],
      "execution_count": 0,
      "outputs": []
    },
    {
      "cell_type": "code",
      "metadata": {
        "id": "Dz1dDSldksFV",
        "colab_type": "code",
        "colab": {}
      },
      "source": [
        "\"\"\" encode the data \"\"\"\n",
        "# Make sure to have a train / test / validation split!\n",
        "encoder_2 = OneHotEncoder()\n",
        "X_enc = encoder_2.fit_transform(X[['performance']], y=X['height'])"
      ],
      "execution_count": 0,
      "outputs": []
    },
    {
      "cell_type": "code",
      "metadata": {
        "id": "jTo3TiPgksFY",
        "colab_type": "code",
        "colab": {}
      },
      "source": [
        "from sklearn.linear_model import LinearRegression\n",
        "from sklearn.metrics import mean_absolute_error, r2_score\n",
        "\n",
        "lin_reg = LinearRegression()\n",
        "lin_reg.fit(X_enc, y)\n",
        "\n",
        "y_pred_val = lin_reg.predict(X_enc)\n",
        "print(mean_absolute_error(y, y_pred_val))\n",
        "print(r2_score(y, y_pred_val))"
      ],
      "execution_count": 0,
      "outputs": []
    }
  ]
}