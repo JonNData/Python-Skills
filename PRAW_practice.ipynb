{
  "nbformat": 4,
  "nbformat_minor": 0,
  "metadata": {
    "colab": {
      "name": "PRAW practice.ipynb",
      "provenance": [],
      "authorship_tag": "ABX9TyOO1823J9/qmdC9bwvd4STR",
      "include_colab_link": true
    },
    "kernelspec": {
      "name": "python3",
      "display_name": "Python 3"
    }
  },
  "cells": [
    {
      "cell_type": "markdown",
      "metadata": {
        "id": "view-in-github",
        "colab_type": "text"
      },
      "source": [
        "<a href=\"https://colab.research.google.com/github/JonNData/Python-Skills/blob/master/PRAW_practice.ipynb\" target=\"_parent\"><img src=\"https://colab.research.google.com/assets/colab-badge.svg\" alt=\"Open In Colab\"/></a>"
      ]
    },
    {
      "cell_type": "code",
      "metadata": {
        "id": "WWNOir1bKnEt",
        "colab_type": "code",
        "colab": {}
      },
      "source": [
        ""
      ],
      "execution_count": 0,
      "outputs": []
    },
    {
      "cell_type": "markdown",
      "metadata": {
        "id": "Oyh34-x4Koyl",
        "colab_type": "text"
      },
      "source": [
        "Python Reddit API Wrapper\n",
        "\n",
        "https://praw.readthedocs.io/en/v7.0.0/\n",
        "\n",
        "Create an account\n",
        "\n",
        "pip install\n",
        "\n",
        "name Post_Here2\n",
        "secret\tyPWkum1sJLZh863acr4upeDWW_4\n",
        "client_id='65DbNHcu8JuDOQ'"
      ]
    },
    {
      "cell_type": "code",
      "metadata": {
        "id": "sf-uJGO-NkyW",
        "colab_type": "code",
        "colab": {
          "base_uri": "https://localhost:8080/",
          "height": 323
        },
        "outputId": "52b42a23-865c-4812-f850-9f7aa1115395"
      },
      "source": [
        "!pip install praw"
      ],
      "execution_count": 1,
      "outputs": [
        {
          "output_type": "stream",
          "text": [
            "Collecting praw\n",
            "\u001b[?25l  Downloading https://files.pythonhosted.org/packages/5c/39/17251486951815d4514e4a3f179d4f3e7af5f7b1ce8eaba5a3ea61bc91f2/praw-7.0.0-py3-none-any.whl (143kB)\n",
            "\u001b[K     |████████████████████████████████| 153kB 2.7MB/s \n",
            "\u001b[?25hCollecting websocket-client>=0.54.0\n",
            "\u001b[?25l  Downloading https://files.pythonhosted.org/packages/4c/5f/f61b420143ed1c8dc69f9eaec5ff1ac36109d52c80de49d66e0c36c3dfdf/websocket_client-0.57.0-py2.py3-none-any.whl (200kB)\n",
            "\u001b[K     |████████████████████████████████| 204kB 44.7MB/s \n",
            "\u001b[?25hCollecting update-checker>=0.16\n",
            "  Downloading https://files.pythonhosted.org/packages/17/c9/ab11855af164d03be0ff4fddd4c46a5bd44799a9ecc1770e01a669c21168/update_checker-0.16-py2.py3-none-any.whl\n",
            "Collecting prawcore<2.0,>=1.3.0\n",
            "  Downloading https://files.pythonhosted.org/packages/c9/8e/d076cb8f26523f91eef3e75d6cf9143b2f16d67ce7d681a61d0bbc783f49/prawcore-1.3.0-py3-none-any.whl\n",
            "Requirement already satisfied: six in /usr/local/lib/python3.6/dist-packages (from websocket-client>=0.54.0->praw) (1.12.0)\n",
            "Requirement already satisfied: requests>=2.3.0 in /usr/local/lib/python3.6/dist-packages (from update-checker>=0.16->praw) (2.21.0)\n",
            "Requirement already satisfied: certifi>=2017.4.17 in /usr/local/lib/python3.6/dist-packages (from requests>=2.3.0->update-checker>=0.16->praw) (2020.4.5.1)\n",
            "Requirement already satisfied: idna<2.9,>=2.5 in /usr/local/lib/python3.6/dist-packages (from requests>=2.3.0->update-checker>=0.16->praw) (2.8)\n",
            "Requirement already satisfied: urllib3<1.25,>=1.21.1 in /usr/local/lib/python3.6/dist-packages (from requests>=2.3.0->update-checker>=0.16->praw) (1.24.3)\n",
            "Requirement already satisfied: chardet<3.1.0,>=3.0.2 in /usr/local/lib/python3.6/dist-packages (from requests>=2.3.0->update-checker>=0.16->praw) (3.0.4)\n",
            "Installing collected packages: websocket-client, update-checker, prawcore, praw\n",
            "Successfully installed praw-7.0.0 prawcore-1.3.0 update-checker-0.16 websocket-client-0.57.0\n"
          ],
          "name": "stdout"
        }
      ]
    },
    {
      "cell_type": "code",
      "metadata": {
        "id": "9HpwIakwNnTH",
        "colab_type": "code",
        "colab": {}
      },
      "source": [
        "import praw\n"
      ],
      "execution_count": 0,
      "outputs": []
    },
    {
      "cell_type": "code",
      "metadata": {
        "id": "OciUORw8NtxT",
        "colab_type": "code",
        "colab": {}
      },
      "source": [
        "reddit = praw.Reddit(client_id='65DbNHcu8JuDOQ',\n",
        "                     client_secret='yPWkum1sJLZh863acr4upeDWW_4',\n",
        "                     user_agent='my user agent',\n",
        "                     username = 'Post_Here2',\n",
        "                     password='bw_post_here2')"
      ],
      "execution_count": 0,
      "outputs": []
    },
    {
      "cell_type": "code",
      "metadata": {
        "id": "1eFRIwCTP59m",
        "colab_type": "code",
        "colab": {
          "base_uri": "https://localhost:8080/",
          "height": 153
        },
        "outputId": "43c9ce31-4273-46a0-e42b-90e0da5111ed"
      },
      "source": [
        "subreddit = reddit.subreddit('python')\n",
        "hot_python = subreddit.hot(limit=5)\n",
        "\n",
        "for post in hot_python:\n",
        "  if not post.stickied:\n",
        "    print('Title: {}, Upvotes: {}, Downvotes: {}\\n'.format(\n",
        "                                                    post.title,\n",
        "                                                    post.ups,\n",
        "                                                    post.downs))"
      ],
      "execution_count": 21,
      "outputs": [
        {
          "output_type": "stream",
          "text": [
            "Title: Astropy-The Astropy Project is a community effort to develop a common core package for Astronomy in Python and foster an ecosystem of interoperable astronomy packages., Upvotes: 145, Downvotes: 0\n",
            "\n",
            "Title: Added torrent info to the script I posted yesterday. Some people asked for the source, so here it is, Upvotes: 313, Downvotes: 0\n",
            "\n",
            "Title: I continued learning python and made this i have a beginner experience but with some tuts that i have watched to learn i made my own project, Upvotes: 110, Downvotes: 0\n",
            "\n",
            "Title: I made an automatic subtitles sync web app using speech recognition, Upvotes: 99, Downvotes: 0\n",
            "\n"
          ],
          "name": "stdout"
        }
      ]
    },
    {
      "cell_type": "code",
      "metadata": {
        "id": "qs6M2y0tQeWv",
        "colab_type": "code",
        "colab": {
          "base_uri": "https://localhost:8080/",
          "height": 1000
        },
        "outputId": "c761f351-1f41-4530-d9e3-b0db7b8cbe6f"
      },
      "source": [
        "dir(post)"
      ],
      "execution_count": 5,
      "outputs": [
        {
          "output_type": "execute_result",
          "data": {
            "text/plain": [
              "['STR_FIELD',\n",
              " '__class__',\n",
              " '__delattr__',\n",
              " '__dict__',\n",
              " '__dir__',\n",
              " '__doc__',\n",
              " '__eq__',\n",
              " '__format__',\n",
              " '__ge__',\n",
              " '__getattr__',\n",
              " '__getattribute__',\n",
              " '__gt__',\n",
              " '__hash__',\n",
              " '__init__',\n",
              " '__init_subclass__',\n",
              " '__le__',\n",
              " '__lt__',\n",
              " '__module__',\n",
              " '__ne__',\n",
              " '__new__',\n",
              " '__reduce__',\n",
              " '__reduce_ex__',\n",
              " '__repr__',\n",
              " '__setattr__',\n",
              " '__sizeof__',\n",
              " '__str__',\n",
              " '__subclasshook__',\n",
              " '__weakref__',\n",
              " '_chunk',\n",
              " '_comments',\n",
              " '_comments_by_id',\n",
              " '_fetch',\n",
              " '_fetch_data',\n",
              " '_fetch_info',\n",
              " '_fetched',\n",
              " '_kind',\n",
              " '_reddit',\n",
              " '_reset_attributes',\n",
              " '_safely_add_arguments',\n",
              " '_url_parts',\n",
              " '_vote',\n",
              " 'all_awardings',\n",
              " 'allow_live_comments',\n",
              " 'approved_at_utc',\n",
              " 'approved_by',\n",
              " 'archived',\n",
              " 'author',\n",
              " 'author_flair_background_color',\n",
              " 'author_flair_css_class',\n",
              " 'author_flair_richtext',\n",
              " 'author_flair_template_id',\n",
              " 'author_flair_text',\n",
              " 'author_flair_text_color',\n",
              " 'author_flair_type',\n",
              " 'author_fullname',\n",
              " 'author_patreon_flair',\n",
              " 'author_premium',\n",
              " 'awarders',\n",
              " 'banned_at_utc',\n",
              " 'banned_by',\n",
              " 'can_gild',\n",
              " 'can_mod_post',\n",
              " 'category',\n",
              " 'clear_vote',\n",
              " 'clicked',\n",
              " 'comment_limit',\n",
              " 'comment_sort',\n",
              " 'comments',\n",
              " 'content_categories',\n",
              " 'contest_mode',\n",
              " 'created',\n",
              " 'created_utc',\n",
              " 'crosspost',\n",
              " 'delete',\n",
              " 'disable_inbox_replies',\n",
              " 'discussion_type',\n",
              " 'distinguished',\n",
              " 'domain',\n",
              " 'downs',\n",
              " 'downvote',\n",
              " 'duplicates',\n",
              " 'edit',\n",
              " 'edited',\n",
              " 'enable_inbox_replies',\n",
              " 'flair',\n",
              " 'fullname',\n",
              " 'gild',\n",
              " 'gilded',\n",
              " 'gildings',\n",
              " 'hidden',\n",
              " 'hide',\n",
              " 'hide_score',\n",
              " 'id',\n",
              " 'id_from_url',\n",
              " 'is_crosspostable',\n",
              " 'is_meta',\n",
              " 'is_original_content',\n",
              " 'is_reddit_media_domain',\n",
              " 'is_robot_indexable',\n",
              " 'is_self',\n",
              " 'is_video',\n",
              " 'likes',\n",
              " 'link_flair_background_color',\n",
              " 'link_flair_css_class',\n",
              " 'link_flair_richtext',\n",
              " 'link_flair_template_id',\n",
              " 'link_flair_text',\n",
              " 'link_flair_text_color',\n",
              " 'link_flair_type',\n",
              " 'locked',\n",
              " 'mark_visited',\n",
              " 'media',\n",
              " 'media_embed',\n",
              " 'media_metadata',\n",
              " 'media_only',\n",
              " 'mod',\n",
              " 'mod_note',\n",
              " 'mod_reason_by',\n",
              " 'mod_reason_title',\n",
              " 'mod_reports',\n",
              " 'name',\n",
              " 'no_follow',\n",
              " 'num_comments',\n",
              " 'num_crossposts',\n",
              " 'num_duplicates',\n",
              " 'num_reports',\n",
              " 'over_18',\n",
              " 'parent_whitelist_status',\n",
              " 'parse',\n",
              " 'permalink',\n",
              " 'pinned',\n",
              " 'post_hint',\n",
              " 'preview',\n",
              " 'pwls',\n",
              " 'quarantine',\n",
              " 'removal_reason',\n",
              " 'removed_by',\n",
              " 'removed_by_category',\n",
              " 'reply',\n",
              " 'report',\n",
              " 'report_reasons',\n",
              " 'save',\n",
              " 'saved',\n",
              " 'score',\n",
              " 'secure_media',\n",
              " 'secure_media_embed',\n",
              " 'selftext',\n",
              " 'selftext_html',\n",
              " 'send_replies',\n",
              " 'shortlink',\n",
              " 'spoiler',\n",
              " 'stickied',\n",
              " 'subreddit',\n",
              " 'subreddit_id',\n",
              " 'subreddit_name_prefixed',\n",
              " 'subreddit_subscribers',\n",
              " 'subreddit_type',\n",
              " 'suggested_sort',\n",
              " 'thumbnail',\n",
              " 'thumbnail_height',\n",
              " 'thumbnail_width',\n",
              " 'title',\n",
              " 'total_awards_received',\n",
              " 'treatment_tags',\n",
              " 'unhide',\n",
              " 'unsave',\n",
              " 'ups',\n",
              " 'upvote',\n",
              " 'upvote_ratio',\n",
              " 'url',\n",
              " 'user_reports',\n",
              " 'view_count',\n",
              " 'visited',\n",
              " 'whitelist_status',\n",
              " 'wls']"
            ]
          },
          "metadata": {
            "tags": []
          },
          "execution_count": 5
        }
      ]
    },
    {
      "cell_type": "code",
      "metadata": {
        "id": "ZkPFlulIQqnF",
        "colab_type": "code",
        "colab": {
          "base_uri": "https://localhost:8080/",
          "height": 34
        },
        "outputId": "21654144-0faa-4a04-f44f-8319b8f85fc0"
      },
      "source": [
        "post._fetch_data"
      ],
      "execution_count": 18,
      "outputs": [
        {
          "output_type": "execute_result",
          "data": {
            "text/plain": [
              "<bound method Submission._fetch_data of Submission(id='g8gqpn')>"
            ]
          },
          "metadata": {
            "tags": []
          },
          "execution_count": 18
        }
      ]
    }
  ]
}