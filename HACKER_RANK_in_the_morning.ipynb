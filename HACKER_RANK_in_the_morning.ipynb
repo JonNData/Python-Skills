{
  "nbformat": 4,
  "nbformat_minor": 0,
  "metadata": {
    "colab": {
      "name": "HACKER RANK in the morning.ipynb",
      "provenance": [],
      "authorship_tag": "ABX9TyMQGYEer9O7G6d+DnSOt3p+",
      "include_colab_link": true
    },
    "kernelspec": {
      "name": "python3",
      "display_name": "Python 3"
    }
  },
  "cells": [
    {
      "cell_type": "markdown",
      "metadata": {
        "id": "view-in-github",
        "colab_type": "text"
      },
      "source": [
        "<a href=\"https://colab.research.google.com/github/JonNData/Python-Skills/blob/master/HACKER_RANK_in_the_morning.ipynb\" target=\"_parent\"><img src=\"https://colab.research.google.com/assets/colab-badge.svg\" alt=\"Open In Colab\"/></a>"
      ]
    },
    {
      "cell_type": "markdown",
      "metadata": {
        "id": "WRjDVQVgv3aO",
        "colab_type": "text"
      },
      "source": [
        "# HACKER RANK"
      ]
    },
    {
      "cell_type": "markdown",
      "metadata": {
        "id": "I6fxK_W7o7St",
        "colab_type": "text"
      },
      "source": [
        "## Weather Station\n",
        "\n",
        "Query the list of CITY names from STATION that do not start with vowels. Your result cannot contain duplicates.\n",
        "\n",
        "Input Format\n",
        "\n",
        "The STATION table is described as follows:\n",
        "\n",
        "\n",
        "\n",
        "\n",
        "```\n",
        "\n",
        "SELECT DISTINCT(CITY)\n",
        "FROM STATION\n",
        "WHERE CITY NOT LIKE ('A%')\n",
        "AND CITY NOT LIKE ('E%')\n",
        "AND CITY NOT LIKE ('I%')\n",
        "AND CITY NOT LIKE ('O%')\n",
        "AND CITY NOT LIKE ('U%')\n",
        "\n",
        "```\n",
        "\n",
        "\n",
        "\n"
      ]
    },
    {
      "cell_type": "markdown",
      "metadata": {
        "id": "vojKjaMyyugI",
        "colab_type": "text"
      },
      "source": [
        "## KANGAROO\n",
        "Function Description\n",
        "\n",
        "Complete the function kangaroo in the editor below. It should return YES if they reach the same position at the same time, or NO if they don't.\n",
        "\n",
        "kangaroo has the following parameter(s):\n",
        "\n",
        "x1, v1: integers, starting position and jump distance for kangaroo 1\n",
        "x2, v2: integers, starting position and jump distance for kangaroo 2\n",
        "Input Format\n",
        "\n",
        "A single line of four space-separated integers denoting the respective values of , , , and .\n",
        "\n",
        "Constraints\n",
        "\n",
        "Output Format\n",
        "\n",
        "Print YES if they can land on the same location at the same time; otherwise, print NO.\n",
        "\n",
        "\n",
        "\n",
        "```\n",
        "# KANGAROO\n",
        "\n",
        "def kangaroo(x1, v1, x2, v2):\n",
        "    i = 10000\n",
        "    counter = 0\n",
        "    while(i > 0):\n",
        "        if(x1 == x2):\n",
        "            return \"YES\"\n",
        "            counter = 1\n",
        "            break\n",
        "        else:\n",
        "            x1 += v1\n",
        "            x2 += v2\n",
        "            i -= 1\n",
        "    if(counter == 0):\n",
        "        return \"NO\"\n",
        "```\n",
        "\n"
      ]
    },
    {
      "cell_type": "code",
      "metadata": {
        "id": "QzRVhwUVysHi",
        "colab_type": "code",
        "colab": {}
      },
      "source": [
        ""
      ],
      "execution_count": 0,
      "outputs": []
    },
    {
      "cell_type": "markdown",
      "metadata": {
        "id": "JKF8FfdPOue4",
        "colab_type": "text"
      },
      "source": [
        "We define an employee's total earnings to be their monthly  worked, and the maximum total earnings to be the maximum total earnings for any employee in the Employee table. Write a query to find the maximum total earnings for all employees as well as the total number of employees who have maximum total earnings. Then print these values as  space-separated integers.\n",
        "\n",
        "Input Format\n",
        "\n",
        "The Employee table containing employee data for a company is described as follows:\n",
        "\n",
        "\n",
        "\n",
        "where employee_id is an employee's ID number, name is their name, months is the total number of months they've been working for the company, and salary is the their monthly salary.\n",
        "\n",
        "```\n",
        "SELECT earnings, count(employee_id)\n",
        "FROM (    \n",
        "    SELECT (months * salary) AS earnings, employee_id\n",
        "    FROM Employee\n",
        ") as Subquery\n",
        "GROUP BY earnings DESC\n",
        "LIMIT 1;\n",
        "```\n",
        "\n"
      ]
    }
  ]
}