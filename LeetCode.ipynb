{
  "nbformat": 4,
  "nbformat_minor": 0,
  "metadata": {
    "colab": {
      "name": "LeetCode.ipynb",
      "provenance": [],
      "authorship_tag": "ABX9TyMHJ4VIoi0RgFGUueTAxVPT",
      "include_colab_link": true
    },
    "kernelspec": {
      "name": "python3",
      "display_name": "Python 3"
    }
  },
  "cells": [
    {
      "cell_type": "markdown",
      "metadata": {
        "id": "view-in-github",
        "colab_type": "text"
      },
      "source": [
        "<a href=\"https://colab.research.google.com/github/JonNData/Python-Skills/blob/master/LeetCode.ipynb\" target=\"_parent\"><img src=\"https://colab.research.google.com/assets/colab-badge.svg\" alt=\"Open In Colab\"/></a>"
      ]
    },
    {
      "cell_type": "markdown",
      "metadata": {
        "id": "2Gi1Xo3J3mWf",
        "colab_type": "text"
      },
      "source": [
        "## Pascal's Triangle\n",
        "\n",
        "Given a non-negative integer numRows, generate the first numRows of Pascal's triangle.\n",
        "\n",
        "\n",
        "In Pascal's triangle, each number is the sum of the two numbers directly above it.\n",
        "\n",
        "Example:\n",
        "\n",
        "Input: 5\n",
        "Output:\n",
        "```\n",
        "[\n",
        "     [1],\n",
        "    [1,1],\n",
        "   [1,2,1],\n",
        "  [1,3,3,1],\n",
        " [1,4,6,4,1]\n",
        "]\n",
        "```\n",
        "\n",
        "\n",
        "\n",
        "```\n",
        "class Solution:\n",
        "    def generate(self, numRows: int) -> List[List[int]]:\n",
        "        rows = []\n",
        "        for i in range(numRows):\n",
        "            \n",
        "            # first row\n",
        "            if i == 0:\n",
        "                rows.append([1])\n",
        "            # second row\n",
        "            elif i==1:\n",
        "                rows.append([1,1])\n",
        "                \n",
        "            # General case rows\n",
        "            else:\n",
        "                # Start with 1\n",
        "                new_row = [1]\n",
        "                \n",
        "                #fill with numbers\n",
        "                count_middle = i - 1\n",
        "                \n",
        "                for j in range(count_middle):\n",
        "                    col_index = j + 1\n",
        "                    prev_row = rows[-1] # starting with 1 array, building up\n",
        "                    value = prev_row[col_index] + prev_row[col_index - 1]\n",
        "                    \n",
        "                    new_row.append(value)\n",
        "\n",
        "                # end with one\n",
        "                new_row.append(1)\n",
        "                \n",
        "                rows.append(new_row)\n",
        "                    \n",
        "        return rows\n",
        "```\n",
        "\n"
      ]
    },
    {
      "cell_type": "code",
      "metadata": {
        "id": "Zs_UfTKP3gFD",
        "colab_type": "code",
        "colab": {}
      },
      "source": [
        ""
      ],
      "execution_count": null,
      "outputs": []
    }
  ]
}