{
  "nbformat": 4,
  "nbformat_minor": 0,
  "metadata": {
    "colab": {
      "name": "whiteboarding.ipynb",
      "provenance": [],
      "collapsed_sections": [],
      "authorship_tag": "ABX9TyPrbFEgnJ5m9GRtmjz+hgfR",
      "include_colab_link": true
    },
    "kernelspec": {
      "name": "python3",
      "display_name": "Python 3"
    }
  },
  "cells": [
    {
      "cell_type": "markdown",
      "metadata": {
        "id": "view-in-github",
        "colab_type": "text"
      },
      "source": [
        "<a href=\"https://colab.research.google.com/github/JonNData/Python-Skills/blob/master/whiteboarding.ipynb\" target=\"_parent\"><img src=\"https://colab.research.google.com/assets/colab-badge.svg\" alt=\"Open In Colab\"/></a>"
      ]
    },
    {
      "cell_type": "markdown",
      "metadata": {
        "id": "8j7_vJEKQVci",
        "colab_type": "text"
      },
      "source": [
        "# Whiteboarding Practice  \n",
        "Techincal coding interview practice\n",
        "\n",
        "\n",
        "*   talk through when you don't remember the exact method\n",
        "\n",
        "## Describing your code\n",
        "\n",
        "\n",
        "Relax technique:  \n",
        "*   Pretend you already have the job and the interviewer is a coworker who came for help on a difficult problem\n",
        "  *   No stress, reframes siuation from interview to just problem-solving\n",
        "  * Puts you into cooperative mindset\n",
        "  * Teach the problem and solution\n",
        "\n",
        "\n",
        "## UPER\n",
        "\n",
        "\n",
        "* Understand\n",
        "  *   Ask questions \n",
        "  * Dialog\n",
        "  * Rephrase problem in your own words\n",
        "\n",
        "* Plan\n",
        "  * Come up with multiple if possible\n",
        "  * don't ignore the naive plane\n",
        "  * teach plan to interviewer\n",
        "  * think in big concepts not code\n",
        "\n",
        "* Execute\n",
        "  * Interviewer will look for where concepts match blocks of code\n",
        "  * point out interesting bits\n",
        "\n",
        "* Reflect\n",
        "  * What could you have done better?\n",
        "  * Future, directions and features\n",
        "  * if you made and mistakes, point them out with solutions\n",
        "  \n",
        "\n",
        "\n"
      ]
    },
    {
      "cell_type": "code",
      "metadata": {
        "id": "noniTWD2QTYw",
        "colab_type": "code",
        "colab": {
          "base_uri": "https://localhost:8080/",
          "height": 34
        },
        "outputId": "45e61862-7090-4e29-8a0d-6a4c60cc73a6"
      },
      "source": [
        "import re\n",
        "s = \"A man, a plan, a canal: Panama99 99\"\n",
        "s.lower().replace(\" \", \"\")\n",
        "\n",
        "re.findall(r\"\\w+\", s)"
      ],
      "execution_count": null,
      "outputs": [
        {
          "output_type": "execute_result",
          "data": {
            "text/plain": [
              "['A', 'man', 'a', 'plan', 'a', 'canal', 'Panama99', '99']"
            ]
          },
          "metadata": {
            "tags": []
          },
          "execution_count": 5
        }
      ]
    },
    {
      "cell_type": "markdown",
      "metadata": {
        "id": "-gUuA3oqTFxd",
        "colab_type": "text"
      },
      "source": [
        "## During the process\n",
        "\n",
        "\n",
        "*  Take notes, clarify ask questions\n",
        "*  Narrow Scope\n",
        "* Sketch flow/idea. Explore seveeral solutions then pick one\n",
        "* Engage interviewer collab and act on feedback\n",
        "\n",
        "\n",
        "\n"
      ]
    },
    {
      "cell_type": "markdown",
      "metadata": {
        "id": "qu5ZFTvFv5pD",
        "colab_type": "text"
      },
      "source": [
        "Given a binary tree, determine if it is height-balanced.\n",
        "\n",
        "For this problem, a height-balanced binary tree is defined as:\n",
        "\n",
        "a binary tree in which the left and right subtrees of every node differ in height by no more than 1.\n",
        "\n",
        " \n",
        "\n",
        "Example 1:\n",
        "\n",
        "Given the following tree `[3,9,20,null,null,15,7]`:  \n",
        "```\n",
        "    3  \n",
        "   / \\\n",
        "  9  20\n",
        "    /  \\\n",
        "   15   7\n",
        "Return true.\n",
        "```"
      ]
    },
    {
      "cell_type": "code",
      "metadata": {
        "id": "BQzLJdAkv3wt",
        "colab_type": "code",
        "colab": {}
      },
      "source": [
        "# Definition for a binary tree node.\n",
        "class TreeNode:\n",
        "    def __init__(self, val=0, left=None, right=None):\n",
        "        self.val = val\n",
        "        self.left = left\n",
        "        self.right = right\n",
        "class Solution:\n",
        "    def isBalanced(self, root: TreeNode) -> bool:\n",
        "        \n",
        "        cache= {}\n",
        "        \n",
        "        def getHeight(n):\n",
        "            if n == None:\n",
        "                return 0\n",
        "            \n",
        "            if n not in cache:\n",
        "                # 1 for the node, + the rest of the nodes\n",
        "                cache[n] = 1 + max(getHeight(n.left), getHeight(n.right))\n",
        "            return cache[n]\n",
        "        \n",
        "        def balanced(root):\n",
        "            # Test if the root is balances\n",
        "            if root is None:\n",
        "                return True\n",
        "\n",
        "            l_height = getHeight(root.left)\n",
        "            r_height = getHeight(root.right)\n",
        "\n",
        "            return abs(l_height - r_height) <= 1 and balanced(root.left) and balanced(root.right)\n",
        "        \n",
        "        return balanced(root)"
      ],
      "execution_count": null,
      "outputs": []
    },
    {
      "cell_type": "code",
      "metadata": {
        "id": "HlsS0Y0_4Wog",
        "colab_type": "code",
        "colab": {
          "base_uri": "https://localhost:8080/",
          "height": 34
        },
        "outputId": "e4529b57-46a4-4bfa-eebd-90c789137357"
      },
      "source": [
        "dictionary = {}\n",
        "dictionary[5] = [1]\n",
        "dictionary"
      ],
      "execution_count": null,
      "outputs": [
        {
          "output_type": "execute_result",
          "data": {
            "text/plain": [
              "{5: [1]}"
            ]
          },
          "metadata": {
            "tags": []
          },
          "execution_count": 6
        }
      ]
    },
    {
      "cell_type": "code",
      "metadata": {
        "id": "wzJ7vfhNviBT",
        "colab_type": "code",
        "colab": {}
      },
      "source": [
        "for index, value in enumerate(branch_model_queue): # loop for all the len(branch)\n",
        "  notification_service.send(BatchCustomerEvent(customer=customer_model_queue[index], branch=value))\n",
        "\n",
        "for value in customer_model_queue[len(branch_model_queue):]: # loop after len(branch)\n",
        "  notification_service.send(BatchCustomerEvent(customer=value, branch=None))"
      ],
      "execution_count": null,
      "outputs": []
    }
  ]
}